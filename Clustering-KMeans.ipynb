{
 "cells": [
  {
   "cell_type": "markdown",
   "metadata": {},
   "source": [
    "# K-Means"
   ]
  },
  {
   "cell_type": "markdown",
   "metadata": {},
   "source": [
    "Pertence à classe de algoritmos de Aprendizado de Máquina não supervisionado. Consiste em particionar um conjunto de dados em classes usando uma média, chamada de centroide, de forma que o dado pertença à média mais próxima."
   ]
  },
  {
   "cell_type": "markdown",
   "metadata": {},
   "source": [
    "## Importando bibliotecas"
   ]
  },
  {
   "cell_type": "code",
   "execution_count": 1,
   "metadata": {},
   "outputs": [],
   "source": [
    "import pandas as pd\n",
    "import numpy as np\n",
    "import matplotlib.pyplot as plt\n",
    "from sklearn.cluster import KMeans\n",
    "%matplotlib inline "
   ]
  },
  {
   "cell_type": "markdown",
   "metadata": {},
   "source": [
    "## Lendo o arquivo"
   ]
  },
  {
   "cell_type": "code",
   "execution_count": 2,
   "metadata": {},
   "outputs": [],
   "source": [
    "df = pd.read_csv('fozcoa.csv', index_col=0, delimiter=\",\", low_memory=False)"
   ]
  },
  {
   "cell_type": "markdown",
   "metadata": {},
   "source": [
    "## Imprimindo alguns dados"
   ]
  },
  {
   "cell_type": "code",
   "execution_count": 3,
   "metadata": {},
   "outputs": [
    {
     "data": {
      "text/html": [
       "<div>\n",
       "<style scoped>\n",
       "    .dataframe tbody tr th:only-of-type {\n",
       "        vertical-align: middle;\n",
       "    }\n",
       "\n",
       "    .dataframe tbody tr th {\n",
       "        vertical-align: top;\n",
       "    }\n",
       "\n",
       "    .dataframe thead th {\n",
       "        text-align: right;\n",
       "    }\n",
       "</style>\n",
       "<table border=\"1\" class=\"dataframe\">\n",
       "  <thead>\n",
       "    <tr style=\"text-align: right;\">\n",
       "      <th></th>\n",
       "      <th>Data</th>\n",
       "      <th>Hora</th>\n",
       "      <th>Zona W1 - T1 Temp. (°C)</th>\n",
       "      <th>Zona W1 - RH1 HR (%)</th>\n",
       "      <th>Zona W1 - C1A Rotação (mm/m)</th>\n",
       "      <th>Zona W1 - P1 Deslocamento (mm)</th>\n",
       "      <th>Zona W2 - F7 Deslocamento (mm)</th>\n",
       "      <th>Zona W2 - F8 Deslocamento (mm)</th>\n",
       "      <th>Zona W2 - T2 Temperatura (ºC)</th>\n",
       "      <th>Zona W2 - F4 Deslocamento (mm)</th>\n",
       "      <th>PtCondensação (°C)  #10597645-x</th>\n",
       "    </tr>\n",
       "    <tr>\n",
       "      <th>#</th>\n",
       "      <th></th>\n",
       "      <th></th>\n",
       "      <th></th>\n",
       "      <th></th>\n",
       "      <th></th>\n",
       "      <th></th>\n",
       "      <th></th>\n",
       "      <th></th>\n",
       "      <th></th>\n",
       "      <th></th>\n",
       "      <th></th>\n",
       "    </tr>\n",
       "  </thead>\n",
       "  <tbody>\n",
       "    <tr>\n",
       "      <th>85069</th>\n",
       "      <td>2015/05/11</td>\n",
       "      <td>01:48:00,0</td>\n",
       "      <td>18747</td>\n",
       "      <td>66461</td>\n",
       "      <td>-41.0764</td>\n",
       "      <td>7.2398</td>\n",
       "      <td>7.8162</td>\n",
       "      <td>7.8211</td>\n",
       "      <td>19800</td>\n",
       "      <td>5.5191</td>\n",
       "      <td>12388</td>\n",
       "    </tr>\n",
       "    <tr>\n",
       "      <th>74661</th>\n",
       "      <td>2015/05/03</td>\n",
       "      <td>20:20:00,0</td>\n",
       "      <td>17177</td>\n",
       "      <td>75859</td>\n",
       "      <td>-41.0449</td>\n",
       "      <td>7.2487</td>\n",
       "      <td>7.8162</td>\n",
       "      <td>7.8211</td>\n",
       "      <td>15175</td>\n",
       "      <td>5.5191</td>\n",
       "      <td>12900</td>\n",
       "    </tr>\n",
       "    <tr>\n",
       "      <th>8776</th>\n",
       "      <td>2015/03/19</td>\n",
       "      <td>02:15:00,0</td>\n",
       "      <td>12243</td>\n",
       "      <td>58551</td>\n",
       "      <td>-41.0449</td>\n",
       "      <td>7.2804</td>\n",
       "      <td>7.8318</td>\n",
       "      <td>7.8367</td>\n",
       "      <td>8412</td>\n",
       "      <td>5.5425</td>\n",
       "      <td>4368</td>\n",
       "    </tr>\n",
       "    <tr>\n",
       "      <th>196737</th>\n",
       "      <td>2015/07/27</td>\n",
       "      <td>14:56:00,0</td>\n",
       "      <td>28493</td>\n",
       "      <td>38504</td>\n",
       "      <td>-41.0134</td>\n",
       "      <td>7.2032</td>\n",
       "      <td>7.8006</td>\n",
       "      <td>7.8055</td>\n",
       "      <td>28775</td>\n",
       "      <td>5.5347</td>\n",
       "      <td>13015</td>\n",
       "    </tr>\n",
       "    <tr>\n",
       "      <th>195579</th>\n",
       "      <td>2015/07/26</td>\n",
       "      <td>19:38:00,0</td>\n",
       "      <td>27333</td>\n",
       "      <td>48140</td>\n",
       "      <td>-41.0134</td>\n",
       "      <td>7.2081</td>\n",
       "      <td>7.8006</td>\n",
       "      <td>7.7977</td>\n",
       "      <td>26075</td>\n",
       "      <td>5.5347</td>\n",
       "      <td>15423</td>\n",
       "    </tr>\n",
       "  </tbody>\n",
       "</table>\n",
       "</div>"
      ],
      "text/plain": [
       "              Data        Hora Zona W1 - T1 Temp. (°C) Zona W1 - RH1 HR (%)  \\\n",
       "#                                                                             \n",
       "85069   2015/05/11  01:48:00,0                   18747                66461   \n",
       "74661   2015/05/03  20:20:00,0                   17177                75859   \n",
       "8776    2015/03/19  02:15:00,0                   12243                58551   \n",
       "196737  2015/07/27  14:56:00,0                   28493                38504   \n",
       "195579  2015/07/26  19:38:00,0                   27333                48140   \n",
       "\n",
       "       Zona W1 - C1A Rotação (mm/m) Zona W1 - P1 Deslocamento (mm)  \\\n",
       "#                                                                    \n",
       "85069                      -41.0764                         7.2398   \n",
       "74661                      -41.0449                         7.2487   \n",
       "8776                       -41.0449                         7.2804   \n",
       "196737                     -41.0134                         7.2032   \n",
       "195579                     -41.0134                         7.2081   \n",
       "\n",
       "       Zona W2 - F7 Deslocamento (mm) Zona W2 - F8 Deslocamento (mm)  \\\n",
       "#                                                                      \n",
       "85069                          7.8162                         7.8211   \n",
       "74661                          7.8162                         7.8211   \n",
       "8776                           7.8318                         7.8367   \n",
       "196737                         7.8006                         7.8055   \n",
       "195579                         7.8006                         7.7977   \n",
       "\n",
       "       Zona W2 - T2 Temperatura (ºC) Zona W2 - F4 Deslocamento (mm)  \\\n",
       "#                                                                     \n",
       "85069                          19800                         5.5191   \n",
       "74661                          15175                         5.5191   \n",
       "8776                            8412                         5.5425   \n",
       "196737                         28775                         5.5347   \n",
       "195579                         26075                         5.5347   \n",
       "\n",
       "       PtCondensação (°C)  #10597645-x  \n",
       "#                                       \n",
       "85069                            12388  \n",
       "74661                            12900  \n",
       "8776                              4368  \n",
       "196737                           13015  \n",
       "195579                           15423  "
      ]
     },
     "execution_count": 3,
     "metadata": {},
     "output_type": "execute_result"
    }
   ],
   "source": [
    "df.sample(5)"
   ]
  },
  {
   "cell_type": "markdown",
   "metadata": {},
   "source": [
    "## Convertendo colunas para Float"
   ]
  },
  {
   "cell_type": "code",
   "execution_count": 4,
   "metadata": {},
   "outputs": [],
   "source": [
    "df['PtCondensação (°C)  #10597645-x'] = pd.to_numeric(df['PtCondensação (°C)  #10597645-x'],errors='coerce')\n",
    "df['Zona W2 - F4 Deslocamento (mm)'] = pd.to_numeric(df['Zona W2 - F4 Deslocamento (mm)'],errors='coerce')\n",
    "df['Zona W1 - T1 Temp. (°C)'] = pd.to_numeric(df['Zona W1 - T1 Temp. (°C)'],errors='coerce')\n",
    "df['Zona W1 - RH1 HR (%)'] = pd.to_numeric(df['Zona W1 - RH1 HR (%)'],errors='coerce')\n",
    "df['Zona W1 - C1A Rotação (mm/m)'] = pd.to_numeric(df['Zona W1 - C1A Rotação (mm/m)'],errors='coerce')\n",
    "df['Zona W1 - P1 Deslocamento (mm)'] = pd.to_numeric(df['Zona W1 - P1 Deslocamento (mm)'],errors='coerce')\n",
    "df['Zona W2 - F7 Deslocamento (mm)'] = pd.to_numeric(df['Zona W2 - F7 Deslocamento (mm)'],errors='coerce')\n",
    "df['Zona W2 - F8 Deslocamento (mm)'] = pd.to_numeric(df['Zona W2 - F8 Deslocamento (mm)'],errors='coerce')\n",
    "df['Zona W2 - T2 Temperatura (ºC)'] = pd.to_numeric(df['Zona W2 - T2 Temperatura (ºC)'],errors='coerce')"
   ]
  },
  {
   "cell_type": "markdown",
   "metadata": {},
   "source": [
    "## Preenchendo os valores nulos com 0"
   ]
  },
  {
   "cell_type": "code",
   "execution_count": 5,
   "metadata": {},
   "outputs": [],
   "source": [
    "df = df.fillna(0)"
   ]
  },
  {
   "cell_type": "markdown",
   "metadata": {},
   "source": [
    "## Criando um array à partir dos dados"
   ]
  },
  {
   "cell_type": "code",
   "execution_count": 6,
   "metadata": {},
   "outputs": [],
   "source": [
    "X = np.array(df.drop(['Data', 'Hora'], axis = 1))"
   ]
  },
  {
   "cell_type": "markdown",
   "metadata": {},
   "source": [
    "## Criando um objeto kmeans com 5 clusters"
   ]
  },
  {
   "cell_type": "code",
   "execution_count": 7,
   "metadata": {},
   "outputs": [],
   "source": [
    "kmeans = KMeans(n_clusters=5, random_state=0)"
   ]
  },
  {
   "cell_type": "markdown",
   "metadata": {},
   "source": [
    "## Treinamento do K-Means"
   ]
  },
  {
   "cell_type": "code",
   "execution_count": 8,
   "metadata": {},
   "outputs": [
    {
     "data": {
      "text/plain": [
       "KMeans(algorithm='auto', copy_x=True, init='k-means++', max_iter=300,\n",
       "       n_clusters=5, n_init=10, n_jobs=None, precompute_distances='auto',\n",
       "       random_state=0, tol=0.0001, verbose=0)"
      ]
     },
     "execution_count": 8,
     "metadata": {},
     "output_type": "execute_result"
    }
   ],
   "source": [
    "kmeans.fit(X)"
   ]
  },
  {
   "cell_type": "markdown",
   "metadata": {},
   "source": [
    "## Criando uma nova coluna aplicando os labels "
   ]
  },
  {
   "cell_type": "code",
   "execution_count": 9,
   "metadata": {},
   "outputs": [],
   "source": [
    "df['k-classes'] = kmeans.labels_"
   ]
  },
  {
   "cell_type": "markdown",
   "metadata": {},
   "source": [
    "## Visualizando os dados com as classes geradas pelo K-Means"
   ]
  },
  {
   "cell_type": "code",
   "execution_count": 10,
   "metadata": {},
   "outputs": [
    {
     "data": {
      "text/html": [
       "<div>\n",
       "<style scoped>\n",
       "    .dataframe tbody tr th:only-of-type {\n",
       "        vertical-align: middle;\n",
       "    }\n",
       "\n",
       "    .dataframe tbody tr th {\n",
       "        vertical-align: top;\n",
       "    }\n",
       "\n",
       "    .dataframe thead th {\n",
       "        text-align: right;\n",
       "    }\n",
       "</style>\n",
       "<table border=\"1\" class=\"dataframe\">\n",
       "  <thead>\n",
       "    <tr style=\"text-align: right;\">\n",
       "      <th></th>\n",
       "      <th>Data</th>\n",
       "      <th>Hora</th>\n",
       "      <th>Zona W1 - T1 Temp. (°C)</th>\n",
       "      <th>Zona W1 - RH1 HR (%)</th>\n",
       "      <th>Zona W1 - C1A Rotação (mm/m)</th>\n",
       "      <th>Zona W1 - P1 Deslocamento (mm)</th>\n",
       "      <th>Zona W2 - F7 Deslocamento (mm)</th>\n",
       "      <th>Zona W2 - F8 Deslocamento (mm)</th>\n",
       "      <th>Zona W2 - T2 Temperatura (ºC)</th>\n",
       "      <th>Zona W2 - F4 Deslocamento (mm)</th>\n",
       "      <th>PtCondensação (°C)  #10597645-x</th>\n",
       "      <th>k-classes</th>\n",
       "    </tr>\n",
       "    <tr>\n",
       "      <th>#</th>\n",
       "      <th></th>\n",
       "      <th></th>\n",
       "      <th></th>\n",
       "      <th></th>\n",
       "      <th></th>\n",
       "      <th></th>\n",
       "      <th></th>\n",
       "      <th></th>\n",
       "      <th></th>\n",
       "      <th></th>\n",
       "      <th></th>\n",
       "      <th></th>\n",
       "    </tr>\n",
       "  </thead>\n",
       "  <tbody>\n",
       "    <tr>\n",
       "      <th>1</th>\n",
       "      <td>2015/03/13</td>\n",
       "      <td>00:00:00,0</td>\n",
       "      <td>13185.0</td>\n",
       "      <td>60217.0</td>\n",
       "      <td>-41.1079</td>\n",
       "      <td>7.2685</td>\n",
       "      <td>7.8240</td>\n",
       "      <td>7.8367</td>\n",
       "      <td>9638.0</td>\n",
       "      <td>5.5425</td>\n",
       "      <td>5657.0</td>\n",
       "      <td>4</td>\n",
       "    </tr>\n",
       "    <tr>\n",
       "      <th>2</th>\n",
       "      <td>2015/03/13</td>\n",
       "      <td>00:01:00,0</td>\n",
       "      <td>13185.0</td>\n",
       "      <td>60217.0</td>\n",
       "      <td>-41.0764</td>\n",
       "      <td>7.2735</td>\n",
       "      <td>7.8240</td>\n",
       "      <td>7.8289</td>\n",
       "      <td>9638.0</td>\n",
       "      <td>5.5503</td>\n",
       "      <td>5657.0</td>\n",
       "      <td>4</td>\n",
       "    </tr>\n",
       "    <tr>\n",
       "      <th>3</th>\n",
       "      <td>2015/03/13</td>\n",
       "      <td>00:02:00,0</td>\n",
       "      <td>13185.0</td>\n",
       "      <td>60217.0</td>\n",
       "      <td>-41.0764</td>\n",
       "      <td>7.2705</td>\n",
       "      <td>7.8162</td>\n",
       "      <td>7.8289</td>\n",
       "      <td>9700.0</td>\n",
       "      <td>5.5347</td>\n",
       "      <td>5657.0</td>\n",
       "      <td>4</td>\n",
       "    </tr>\n",
       "    <tr>\n",
       "      <th>4</th>\n",
       "      <td>2015/03/13</td>\n",
       "      <td>00:03:00,0</td>\n",
       "      <td>13185.0</td>\n",
       "      <td>60247.0</td>\n",
       "      <td>-41.0764</td>\n",
       "      <td>7.2705</td>\n",
       "      <td>7.8240</td>\n",
       "      <td>7.8289</td>\n",
       "      <td>9700.0</td>\n",
       "      <td>5.5347</td>\n",
       "      <td>5664.0</td>\n",
       "      <td>4</td>\n",
       "    </tr>\n",
       "    <tr>\n",
       "      <th>5</th>\n",
       "      <td>2015/03/13</td>\n",
       "      <td>00:04:00,0</td>\n",
       "      <td>13185.0</td>\n",
       "      <td>60306.0</td>\n",
       "      <td>-41.1079</td>\n",
       "      <td>7.2705</td>\n",
       "      <td>7.8240</td>\n",
       "      <td>7.8211</td>\n",
       "      <td>9700.0</td>\n",
       "      <td>5.5425</td>\n",
       "      <td>5678.0</td>\n",
       "      <td>4</td>\n",
       "    </tr>\n",
       "  </tbody>\n",
       "</table>\n",
       "</div>"
      ],
      "text/plain": [
       "         Data        Hora  Zona W1 - T1 Temp. (°C)  Zona W1 - RH1 HR (%)  \\\n",
       "#                                                                          \n",
       "1  2015/03/13  00:00:00,0                  13185.0               60217.0   \n",
       "2  2015/03/13  00:01:00,0                  13185.0               60217.0   \n",
       "3  2015/03/13  00:02:00,0                  13185.0               60217.0   \n",
       "4  2015/03/13  00:03:00,0                  13185.0               60247.0   \n",
       "5  2015/03/13  00:04:00,0                  13185.0               60306.0   \n",
       "\n",
       "   Zona W1 - C1A Rotação (mm/m)  Zona W1 - P1 Deslocamento (mm)  \\\n",
       "#                                                                 \n",
       "1                      -41.1079                          7.2685   \n",
       "2                      -41.0764                          7.2735   \n",
       "3                      -41.0764                          7.2705   \n",
       "4                      -41.0764                          7.2705   \n",
       "5                      -41.1079                          7.2705   \n",
       "\n",
       "   Zona W2 - F7 Deslocamento (mm)  Zona W2 - F8 Deslocamento (mm)  \\\n",
       "#                                                                   \n",
       "1                          7.8240                          7.8367   \n",
       "2                          7.8240                          7.8289   \n",
       "3                          7.8162                          7.8289   \n",
       "4                          7.8240                          7.8289   \n",
       "5                          7.8240                          7.8211   \n",
       "\n",
       "   Zona W2 - T2 Temperatura (ºC)  Zona W2 - F4 Deslocamento (mm)  \\\n",
       "#                                                                  \n",
       "1                         9638.0                          5.5425   \n",
       "2                         9638.0                          5.5503   \n",
       "3                         9700.0                          5.5347   \n",
       "4                         9700.0                          5.5347   \n",
       "5                         9700.0                          5.5425   \n",
       "\n",
       "   PtCondensação (°C)  #10597645-x  k-classes  \n",
       "#                                              \n",
       "1                           5657.0          4  \n",
       "2                           5657.0          4  \n",
       "3                           5657.0          4  \n",
       "4                           5664.0          4  \n",
       "5                           5678.0          4  "
      ]
     },
     "execution_count": 10,
     "metadata": {},
     "output_type": "execute_result"
    }
   ],
   "source": [
    "df.head()"
   ]
  },
  {
   "cell_type": "code",
   "execution_count": 11,
   "metadata": {},
   "outputs": [
    {
     "data": {
      "text/html": [
       "<div>\n",
       "<style scoped>\n",
       "    .dataframe tbody tr th:only-of-type {\n",
       "        vertical-align: middle;\n",
       "    }\n",
       "\n",
       "    .dataframe tbody tr th {\n",
       "        vertical-align: top;\n",
       "    }\n",
       "\n",
       "    .dataframe thead th {\n",
       "        text-align: right;\n",
       "    }\n",
       "</style>\n",
       "<table border=\"1\" class=\"dataframe\">\n",
       "  <thead>\n",
       "    <tr style=\"text-align: right;\">\n",
       "      <th></th>\n",
       "      <th>Data</th>\n",
       "      <th>Hora</th>\n",
       "      <th>Zona W1 - T1 Temp. (°C)</th>\n",
       "      <th>Zona W1 - RH1 HR (%)</th>\n",
       "      <th>Zona W1 - C1A Rotação (mm/m)</th>\n",
       "      <th>Zona W1 - P1 Deslocamento (mm)</th>\n",
       "      <th>Zona W2 - F7 Deslocamento (mm)</th>\n",
       "      <th>Zona W2 - F8 Deslocamento (mm)</th>\n",
       "      <th>Zona W2 - T2 Temperatura (ºC)</th>\n",
       "      <th>Zona W2 - F4 Deslocamento (mm)</th>\n",
       "      <th>PtCondensação (°C)  #10597645-x</th>\n",
       "      <th>k-classes</th>\n",
       "    </tr>\n",
       "    <tr>\n",
       "      <th>#</th>\n",
       "      <th></th>\n",
       "      <th></th>\n",
       "      <th></th>\n",
       "      <th></th>\n",
       "      <th></th>\n",
       "      <th></th>\n",
       "      <th></th>\n",
       "      <th></th>\n",
       "      <th></th>\n",
       "      <th></th>\n",
       "      <th></th>\n",
       "      <th></th>\n",
       "    </tr>\n",
       "  </thead>\n",
       "  <tbody>\n",
       "    <tr>\n",
       "      <th>350823</th>\n",
       "      <td>2015/11/11</td>\n",
       "      <td>15:02:00,0</td>\n",
       "      <td>16034.0</td>\n",
       "      <td>72098.0</td>\n",
       "      <td>-41.0764</td>\n",
       "      <td>7.2586</td>\n",
       "      <td>7.8084</td>\n",
       "      <td>7.8211</td>\n",
       "      <td>9700.0</td>\n",
       "      <td>5.5503</td>\n",
       "      <td>11025.0</td>\n",
       "      <td>2</td>\n",
       "    </tr>\n",
       "    <tr>\n",
       "      <th>350824</th>\n",
       "      <td>2015/11/11</td>\n",
       "      <td>15:03:00,0</td>\n",
       "      <td>16034.0</td>\n",
       "      <td>72040.0</td>\n",
       "      <td>-41.0764</td>\n",
       "      <td>7.2616</td>\n",
       "      <td>7.8006</td>\n",
       "      <td>7.8289</td>\n",
       "      <td>9762.0</td>\n",
       "      <td>5.5503</td>\n",
       "      <td>11013.0</td>\n",
       "      <td>2</td>\n",
       "    </tr>\n",
       "    <tr>\n",
       "      <th>350825</th>\n",
       "      <td>2015/11/11</td>\n",
       "      <td>15:04:00,0</td>\n",
       "      <td>16034.0</td>\n",
       "      <td>72040.0</td>\n",
       "      <td>-41.0764</td>\n",
       "      <td>7.2616</td>\n",
       "      <td>7.8084</td>\n",
       "      <td>7.8289</td>\n",
       "      <td>9762.0</td>\n",
       "      <td>5.5582</td>\n",
       "      <td>11013.0</td>\n",
       "      <td>2</td>\n",
       "    </tr>\n",
       "    <tr>\n",
       "      <th>350826</th>\n",
       "      <td>2015/11/11</td>\n",
       "      <td>15:05:00,0</td>\n",
       "      <td>16034.0</td>\n",
       "      <td>72040.0</td>\n",
       "      <td>-41.0764</td>\n",
       "      <td>7.2616</td>\n",
       "      <td>7.8162</td>\n",
       "      <td>7.8289</td>\n",
       "      <td>9762.0</td>\n",
       "      <td>5.5582</td>\n",
       "      <td>11013.0</td>\n",
       "      <td>2</td>\n",
       "    </tr>\n",
       "    <tr>\n",
       "      <th>350827</th>\n",
       "      <td>2015/11/11</td>\n",
       "      <td>15:06:00,0</td>\n",
       "      <td>16034.0</td>\n",
       "      <td>72069.0</td>\n",
       "      <td>-41.0764</td>\n",
       "      <td>7.2586</td>\n",
       "      <td>7.8084</td>\n",
       "      <td>7.8367</td>\n",
       "      <td>9825.0</td>\n",
       "      <td>5.5347</td>\n",
       "      <td>11019.0</td>\n",
       "      <td>2</td>\n",
       "    </tr>\n",
       "  </tbody>\n",
       "</table>\n",
       "</div>"
      ],
      "text/plain": [
       "              Data        Hora  Zona W1 - T1 Temp. (°C)  Zona W1 - RH1 HR (%)  \\\n",
       "#                                                                               \n",
       "350823  2015/11/11  15:02:00,0                  16034.0               72098.0   \n",
       "350824  2015/11/11  15:03:00,0                  16034.0               72040.0   \n",
       "350825  2015/11/11  15:04:00,0                  16034.0               72040.0   \n",
       "350826  2015/11/11  15:05:00,0                  16034.0               72040.0   \n",
       "350827  2015/11/11  15:06:00,0                  16034.0               72069.0   \n",
       "\n",
       "        Zona W1 - C1A Rotação (mm/m)  Zona W1 - P1 Deslocamento (mm)  \\\n",
       "#                                                                      \n",
       "350823                      -41.0764                          7.2586   \n",
       "350824                      -41.0764                          7.2616   \n",
       "350825                      -41.0764                          7.2616   \n",
       "350826                      -41.0764                          7.2616   \n",
       "350827                      -41.0764                          7.2586   \n",
       "\n",
       "        Zona W2 - F7 Deslocamento (mm)  Zona W2 - F8 Deslocamento (mm)  \\\n",
       "#                                                                        \n",
       "350823                          7.8084                          7.8211   \n",
       "350824                          7.8006                          7.8289   \n",
       "350825                          7.8084                          7.8289   \n",
       "350826                          7.8162                          7.8289   \n",
       "350827                          7.8084                          7.8367   \n",
       "\n",
       "        Zona W2 - T2 Temperatura (ºC)  Zona W2 - F4 Deslocamento (mm)  \\\n",
       "#                                                                       \n",
       "350823                         9700.0                          5.5503   \n",
       "350824                         9762.0                          5.5503   \n",
       "350825                         9762.0                          5.5582   \n",
       "350826                         9762.0                          5.5582   \n",
       "350827                         9825.0                          5.5347   \n",
       "\n",
       "        PtCondensação (°C)  #10597645-x  k-classes  \n",
       "#                                                   \n",
       "350823                          11025.0          2  \n",
       "350824                          11013.0          2  \n",
       "350825                          11013.0          2  \n",
       "350826                          11013.0          2  \n",
       "350827                          11019.0          2  "
      ]
     },
     "execution_count": 11,
     "metadata": {},
     "output_type": "execute_result"
    }
   ],
   "source": [
    "df.tail()"
   ]
  },
  {
   "cell_type": "code",
   "execution_count": 12,
   "metadata": {},
   "outputs": [
    {
     "data": {
      "text/html": [
       "<div>\n",
       "<style scoped>\n",
       "    .dataframe tbody tr th:only-of-type {\n",
       "        vertical-align: middle;\n",
       "    }\n",
       "\n",
       "    .dataframe tbody tr th {\n",
       "        vertical-align: top;\n",
       "    }\n",
       "\n",
       "    .dataframe thead th {\n",
       "        text-align: right;\n",
       "    }\n",
       "</style>\n",
       "<table border=\"1\" class=\"dataframe\">\n",
       "  <thead>\n",
       "    <tr style=\"text-align: right;\">\n",
       "      <th></th>\n",
       "      <th>Data</th>\n",
       "      <th>Hora</th>\n",
       "      <th>Zona W1 - T1 Temp. (°C)</th>\n",
       "      <th>Zona W1 - RH1 HR (%)</th>\n",
       "      <th>Zona W1 - C1A Rotação (mm/m)</th>\n",
       "      <th>Zona W1 - P1 Deslocamento (mm)</th>\n",
       "      <th>Zona W2 - F7 Deslocamento (mm)</th>\n",
       "      <th>Zona W2 - F8 Deslocamento (mm)</th>\n",
       "      <th>Zona W2 - T2 Temperatura (ºC)</th>\n",
       "      <th>Zona W2 - F4 Deslocamento (mm)</th>\n",
       "      <th>PtCondensação (°C)  #10597645-x</th>\n",
       "      <th>k-classes</th>\n",
       "    </tr>\n",
       "    <tr>\n",
       "      <th>#</th>\n",
       "      <th></th>\n",
       "      <th></th>\n",
       "      <th></th>\n",
       "      <th></th>\n",
       "      <th></th>\n",
       "      <th></th>\n",
       "      <th></th>\n",
       "      <th></th>\n",
       "      <th></th>\n",
       "      <th></th>\n",
       "      <th></th>\n",
       "      <th></th>\n",
       "    </tr>\n",
       "  </thead>\n",
       "  <tbody>\n",
       "    <tr>\n",
       "      <th>332625</th>\n",
       "      <td>2015/10/29</td>\n",
       "      <td>23:44:00,0</td>\n",
       "      <td>16677.0</td>\n",
       "      <td>72681.0</td>\n",
       "      <td>-41.0764</td>\n",
       "      <td>7.2586</td>\n",
       "      <td>7.8084</td>\n",
       "      <td>7.8289</td>\n",
       "      <td>13700.0</td>\n",
       "      <td>5.5503</td>\n",
       "      <td>11766.0</td>\n",
       "      <td>2</td>\n",
       "    </tr>\n",
       "    <tr>\n",
       "      <th>106038</th>\n",
       "      <td>2015/05/25</td>\n",
       "      <td>15:17:00,0</td>\n",
       "      <td>19555.0</td>\n",
       "      <td>47886.0</td>\n",
       "      <td>-41.0134</td>\n",
       "      <td>7.2418</td>\n",
       "      <td>7.8162</td>\n",
       "      <td>7.8055</td>\n",
       "      <td>23550.0</td>\n",
       "      <td>5.5191</td>\n",
       "      <td>8232.0</td>\n",
       "      <td>0</td>\n",
       "    </tr>\n",
       "    <tr>\n",
       "      <th>163802</th>\n",
       "      <td>2015/07/04</td>\n",
       "      <td>18:01:00,0</td>\n",
       "      <td>26475.0</td>\n",
       "      <td>49092.0</td>\n",
       "      <td>-40.9819</td>\n",
       "      <td>7.2101</td>\n",
       "      <td>7.8006</td>\n",
       "      <td>7.7899</td>\n",
       "      <td>29150.0</td>\n",
       "      <td>5.5191</td>\n",
       "      <td>14943.0</td>\n",
       "      <td>1</td>\n",
       "    </tr>\n",
       "    <tr>\n",
       "      <th>240291</th>\n",
       "      <td>2015/08/26</td>\n",
       "      <td>20:50:00,0</td>\n",
       "      <td>23857.0</td>\n",
       "      <td>49137.0</td>\n",
       "      <td>-40.9819</td>\n",
       "      <td>7.2299</td>\n",
       "      <td>7.8162</td>\n",
       "      <td>7.8055</td>\n",
       "      <td>21575.0</td>\n",
       "      <td>5.5503</td>\n",
       "      <td>12559.0</td>\n",
       "      <td>0</td>\n",
       "    </tr>\n",
       "    <tr>\n",
       "      <th>246154</th>\n",
       "      <td>2015/08/30</td>\n",
       "      <td>22:33:00,0</td>\n",
       "      <td>25841.0</td>\n",
       "      <td>54945.0</td>\n",
       "      <td>-41.0134</td>\n",
       "      <td>7.2131</td>\n",
       "      <td>7.8006</td>\n",
       "      <td>7.7977</td>\n",
       "      <td>24412.0</td>\n",
       "      <td>5.5425</td>\n",
       "      <td>16118.0</td>\n",
       "      <td>0</td>\n",
       "    </tr>\n",
       "    <tr>\n",
       "      <th>122914</th>\n",
       "      <td>2015/06/06</td>\n",
       "      <td>08:33:00,0</td>\n",
       "      <td>23064.0</td>\n",
       "      <td>55978.0</td>\n",
       "      <td>-40.9567</td>\n",
       "      <td>7.2269</td>\n",
       "      <td>7.8084</td>\n",
       "      <td>7.8055</td>\n",
       "      <td>20538.0</td>\n",
       "      <td>5.5347</td>\n",
       "      <td>13825.0</td>\n",
       "      <td>0</td>\n",
       "    </tr>\n",
       "    <tr>\n",
       "      <th>67252</th>\n",
       "      <td>2015/04/28</td>\n",
       "      <td>16:51:00,0</td>\n",
       "      <td>15867.0</td>\n",
       "      <td>62292.0</td>\n",
       "      <td>-41.0449</td>\n",
       "      <td>7.2586</td>\n",
       "      <td>7.8318</td>\n",
       "      <td>7.8211</td>\n",
       "      <td>15175.0</td>\n",
       "      <td>5.5347</td>\n",
       "      <td>8683.0</td>\n",
       "      <td>4</td>\n",
       "    </tr>\n",
       "    <tr>\n",
       "      <th>213022</th>\n",
       "      <td>2015/08/07</td>\n",
       "      <td>22:21:00,0</td>\n",
       "      <td>26036.0</td>\n",
       "      <td>36294.0</td>\n",
       "      <td>-40.9567</td>\n",
       "      <td>7.2299</td>\n",
       "      <td>7.8006</td>\n",
       "      <td>7.7977</td>\n",
       "      <td>20038.0</td>\n",
       "      <td>5.5503</td>\n",
       "      <td>9945.0</td>\n",
       "      <td>1</td>\n",
       "    </tr>\n",
       "    <tr>\n",
       "      <th>181459</th>\n",
       "      <td>2015/07/17</td>\n",
       "      <td>00:18:00,0</td>\n",
       "      <td>27530.0</td>\n",
       "      <td>42731.0</td>\n",
       "      <td>-40.9567</td>\n",
       "      <td>7.2180</td>\n",
       "      <td>7.7928</td>\n",
       "      <td>7.7977</td>\n",
       "      <td>24588.0</td>\n",
       "      <td>5.5269</td>\n",
       "      <td>13754.0</td>\n",
       "      <td>1</td>\n",
       "    </tr>\n",
       "    <tr>\n",
       "      <th>19244</th>\n",
       "      <td>2015/03/26</td>\n",
       "      <td>08:43:00,0</td>\n",
       "      <td>11565.0</td>\n",
       "      <td>54525.0</td>\n",
       "      <td>-41.0449</td>\n",
       "      <td>7.2804</td>\n",
       "      <td>7.8381</td>\n",
       "      <td>7.8367</td>\n",
       "      <td>7550.0</td>\n",
       "      <td>5.5503</td>\n",
       "      <td>2724.0</td>\n",
       "      <td>4</td>\n",
       "    </tr>\n",
       "  </tbody>\n",
       "</table>\n",
       "</div>"
      ],
      "text/plain": [
       "              Data        Hora  Zona W1 - T1 Temp. (°C)  Zona W1 - RH1 HR (%)  \\\n",
       "#                                                                               \n",
       "332625  2015/10/29  23:44:00,0                  16677.0               72681.0   \n",
       "106038  2015/05/25  15:17:00,0                  19555.0               47886.0   \n",
       "163802  2015/07/04  18:01:00,0                  26475.0               49092.0   \n",
       "240291  2015/08/26  20:50:00,0                  23857.0               49137.0   \n",
       "246154  2015/08/30  22:33:00,0                  25841.0               54945.0   \n",
       "122914  2015/06/06  08:33:00,0                  23064.0               55978.0   \n",
       "67252   2015/04/28  16:51:00,0                  15867.0               62292.0   \n",
       "213022  2015/08/07  22:21:00,0                  26036.0               36294.0   \n",
       "181459  2015/07/17  00:18:00,0                  27530.0               42731.0   \n",
       "19244   2015/03/26  08:43:00,0                  11565.0               54525.0   \n",
       "\n",
       "        Zona W1 - C1A Rotação (mm/m)  Zona W1 - P1 Deslocamento (mm)  \\\n",
       "#                                                                      \n",
       "332625                      -41.0764                          7.2586   \n",
       "106038                      -41.0134                          7.2418   \n",
       "163802                      -40.9819                          7.2101   \n",
       "240291                      -40.9819                          7.2299   \n",
       "246154                      -41.0134                          7.2131   \n",
       "122914                      -40.9567                          7.2269   \n",
       "67252                       -41.0449                          7.2586   \n",
       "213022                      -40.9567                          7.2299   \n",
       "181459                      -40.9567                          7.2180   \n",
       "19244                       -41.0449                          7.2804   \n",
       "\n",
       "        Zona W2 - F7 Deslocamento (mm)  Zona W2 - F8 Deslocamento (mm)  \\\n",
       "#                                                                        \n",
       "332625                          7.8084                          7.8289   \n",
       "106038                          7.8162                          7.8055   \n",
       "163802                          7.8006                          7.7899   \n",
       "240291                          7.8162                          7.8055   \n",
       "246154                          7.8006                          7.7977   \n",
       "122914                          7.8084                          7.8055   \n",
       "67252                           7.8318                          7.8211   \n",
       "213022                          7.8006                          7.7977   \n",
       "181459                          7.7928                          7.7977   \n",
       "19244                           7.8381                          7.8367   \n",
       "\n",
       "        Zona W2 - T2 Temperatura (ºC)  Zona W2 - F4 Deslocamento (mm)  \\\n",
       "#                                                                       \n",
       "332625                        13700.0                          5.5503   \n",
       "106038                        23550.0                          5.5191   \n",
       "163802                        29150.0                          5.5191   \n",
       "240291                        21575.0                          5.5503   \n",
       "246154                        24412.0                          5.5425   \n",
       "122914                        20538.0                          5.5347   \n",
       "67252                         15175.0                          5.5347   \n",
       "213022                        20038.0                          5.5503   \n",
       "181459                        24588.0                          5.5269   \n",
       "19244                          7550.0                          5.5503   \n",
       "\n",
       "        PtCondensação (°C)  #10597645-x  k-classes  \n",
       "#                                                   \n",
       "332625                          11766.0          2  \n",
       "106038                           8232.0          0  \n",
       "163802                          14943.0          1  \n",
       "240291                          12559.0          0  \n",
       "246154                          16118.0          0  \n",
       "122914                          13825.0          0  \n",
       "67252                            8683.0          4  \n",
       "213022                           9945.0          1  \n",
       "181459                          13754.0          1  \n",
       "19244                            2724.0          4  "
      ]
     },
     "execution_count": 12,
     "metadata": {},
     "output_type": "execute_result"
    }
   ],
   "source": [
    "df.sample(10)"
   ]
  },
  {
   "cell_type": "markdown",
   "metadata": {},
   "source": [
    "## Quantos valores pertencem a cada classe"
   ]
  },
  {
   "cell_type": "code",
   "execution_count": 13,
   "metadata": {
    "scrolled": false
   },
   "outputs": [
    {
     "data": {
      "text/plain": [
       "0    82050\n",
       "4    78938\n",
       "2    70269\n",
       "3    61859\n",
       "1    57721\n",
       "Name: k-classes, dtype: int64"
      ]
     },
     "execution_count": 13,
     "metadata": {},
     "output_type": "execute_result"
    }
   ],
   "source": [
    "df['k-classes'].value_counts()"
   ]
  },
  {
   "cell_type": "markdown",
   "metadata": {},
   "source": [
    "## Escolhendo o número certo de clusters"
   ]
  },
  {
   "cell_type": "markdown",
   "metadata": {},
   "source": [
    "### Elbow Method"
   ]
  },
  {
   "cell_type": "markdown",
   "metadata": {},
   "source": [
    "Quando o conjunto de dados tiver multiplas dimensões, tornando difícil a visualização, fazemos um gráfico da relação entre o número de clusters e a soma dos quadrados dentro do cluster (WCSS). Depois, selecionamos o número de clusters no qual a alteração do WCSS começa a se estabilizar."
   ]
  },
  {
   "cell_type": "code",
   "execution_count": 14,
   "metadata": {},
   "outputs": [],
   "source": [
    "wcss = []\n",
    "K = range(1,11)\n",
    "\n",
    "for i in K:\n",
    "    kmeans = KMeans(n_clusters = i, init = 'k-means++', random_state=0)\n",
    "    kmeans.fit(X)\n",
    "    wcss.append(kmeans.inertia_)"
   ]
  },
  {
   "cell_type": "code",
   "execution_count": 15,
   "metadata": {},
   "outputs": [
    {
     "data": {
      "image/png": "[encoded data removed]",
      "text/plain": [
       "<Figure size 720x432 with 1 Axes>"
      ]
     },
     "metadata": {
      "needs_background": "light"
     },
     "output_type": "display_data"
    }
   ],
   "source": [
    "plt.figure(figsize=(10,6))\n",
    "plt.plot(K, wcss, 'bx-')\n",
    "plt.xlabel('Número de clusters (K)')\n",
    "plt.ylabel('WCSS')\n",
    "plt.title('Elbow Method')\n",
    "plt.show()"
   ]
  },
  {
   "cell_type": "markdown",
   "metadata": {},
   "source": [
    "### Usando a lib KElbowVisualizer para uma melhor visualização"
   ]
  },
  {
   "cell_type": "code",
   "execution_count": 17,
   "metadata": {
    "scrolled": true
   },
   "outputs": [
    {
     "name": "stderr",
     "output_type": "stream",
     "text": [
      "/home/leonardo/anaconda3/lib/python3.7/site-packages/sklearn/utils/deprecation.py:144: FutureWarning: The sklearn.metrics.classification module is  deprecated in version 0.22 and will be removed in version 0.24. The corresponding classes / functions should instead be imported from sklearn.metrics. Anything that cannot be imported from sklearn.metrics is now part of the private API.\n",
      "  warnings.warn(message, FutureWarning)\n"
     ]
    }
   ],
   "source": [
    "from yellowbrick.cluster import KElbowVisualizer"
   ]
  },
  {
   "cell_type": "code",
   "execution_count": 18,
   "metadata": {},
   "outputs": [
    {
     "data": {
      "image/png": "[encoded data removed]",
      "text/plain": [
       "<Figure size 576x396 with 2 Axes>"
      ]
     },
     "metadata": {},
     "output_type": "display_data"
    },
    {
     "data": {
      "text/plain": [
       "<matplotlib.axes._subplots.AxesSubplot at 0x7fd8ab963090>"
      ]
     },
     "execution_count": 18,
     "metadata": {},
     "output_type": "execute_result"
    }
   ],
   "source": [
    "model = KMeans()\n",
    "visualizer = KElbowVisualizer(kmeans, k=(1,11))\n",
    "\n",
    "visualizer.fit(X)\n",
    "visualizer.show()"
   ]
  },
  {
   "cell_type": "markdown",
   "metadata": {},
   "source": [
    "## kmeans com 3 clusters"
   ]
  },
  {
   "cell_type": "code",
   "execution_count": 19,
   "metadata": {},
   "outputs": [],
   "source": [
    "kmeans = KMeans(n_clusters=3, init = 'k-means++', random_state=0)"
   ]
  },
  {
   "cell_type": "code",
   "execution_count": 20,
   "metadata": {},
   "outputs": [
    {
     "data": {
      "text/plain": [
       "KMeans(algorithm='auto', copy_x=True, init='k-means++', max_iter=300,\n",
       "       n_clusters=3, n_init=10, n_jobs=None, precompute_distances='auto',\n",
       "       random_state=0, tol=0.0001, verbose=0)"
      ]
     },
     "execution_count": 20,
     "metadata": {},
     "output_type": "execute_result"
    }
   ],
   "source": [
    "kmeans.fit(X)"
   ]
  },
  {
   "cell_type": "code",
   "execution_count": 21,
   "metadata": {},
   "outputs": [],
   "source": [
    "df['k-classes'] = kmeans.labels_"
   ]
  },
  {
   "cell_type": "code",
   "execution_count": 22,
   "metadata": {
    "scrolled": false
   },
   "outputs": [
    {
     "data": {
      "text/html": [
       "<div>\n",
       "<style scoped>\n",
       "    .dataframe tbody tr th:only-of-type {\n",
       "        vertical-align: middle;\n",
       "    }\n",
       "\n",
       "    .dataframe tbody tr th {\n",
       "        vertical-align: top;\n",
       "    }\n",
       "\n",
       "    .dataframe thead th {\n",
       "        text-align: right;\n",
       "    }\n",
       "</style>\n",
       "<table border=\"1\" class=\"dataframe\">\n",
       "  <thead>\n",
       "    <tr style=\"text-align: right;\">\n",
       "      <th></th>\n",
       "      <th>Data</th>\n",
       "      <th>Hora</th>\n",
       "      <th>Zona W1 - T1 Temp. (°C)</th>\n",
       "      <th>Zona W1 - RH1 HR (%)</th>\n",
       "      <th>Zona W1 - C1A Rotação (mm/m)</th>\n",
       "      <th>Zona W1 - P1 Deslocamento (mm)</th>\n",
       "      <th>Zona W2 - F7 Deslocamento (mm)</th>\n",
       "      <th>Zona W2 - F8 Deslocamento (mm)</th>\n",
       "      <th>Zona W2 - T2 Temperatura (ºC)</th>\n",
       "      <th>Zona W2 - F4 Deslocamento (mm)</th>\n",
       "      <th>PtCondensação (°C)  #10597645-x</th>\n",
       "      <th>k-classes</th>\n",
       "    </tr>\n",
       "    <tr>\n",
       "      <th>#</th>\n",
       "      <th></th>\n",
       "      <th></th>\n",
       "      <th></th>\n",
       "      <th></th>\n",
       "      <th></th>\n",
       "      <th></th>\n",
       "      <th></th>\n",
       "      <th></th>\n",
       "      <th></th>\n",
       "      <th></th>\n",
       "      <th></th>\n",
       "      <th></th>\n",
       "    </tr>\n",
       "  </thead>\n",
       "  <tbody>\n",
       "    <tr>\n",
       "      <th>169612</th>\n",
       "      <td>2015/07/08</td>\n",
       "      <td>18:51:00,0</td>\n",
       "      <td>26744.0</td>\n",
       "      <td>40606.0</td>\n",
       "      <td>-41.0134</td>\n",
       "      <td>7.2081</td>\n",
       "      <td>7.8006</td>\n",
       "      <td>7.7977</td>\n",
       "      <td>33150.0</td>\n",
       "      <td>5.5113</td>\n",
       "      <td>12267.0</td>\n",
       "      <td>2</td>\n",
       "    </tr>\n",
       "    <tr>\n",
       "      <th>192532</th>\n",
       "      <td>2015/07/24</td>\n",
       "      <td>16:51:00,0</td>\n",
       "      <td>26891.0</td>\n",
       "      <td>42462.0</td>\n",
       "      <td>-40.9819</td>\n",
       "      <td>7.2200</td>\n",
       "      <td>7.8006</td>\n",
       "      <td>7.7977</td>\n",
       "      <td>25388.0</td>\n",
       "      <td>5.5347</td>\n",
       "      <td>13082.0</td>\n",
       "      <td>2</td>\n",
       "    </tr>\n",
       "    <tr>\n",
       "      <th>88827</th>\n",
       "      <td>2015/05/13</td>\n",
       "      <td>16:26:00,0</td>\n",
       "      <td>21175.0</td>\n",
       "      <td>52873.0</td>\n",
       "      <td>-41.0764</td>\n",
       "      <td>7.2081</td>\n",
       "      <td>7.8084</td>\n",
       "      <td>7.8133</td>\n",
       "      <td>28650.0</td>\n",
       "      <td>5.4957</td>\n",
       "      <td>11200.0</td>\n",
       "      <td>2</td>\n",
       "    </tr>\n",
       "    <tr>\n",
       "      <th>317337</th>\n",
       "      <td>2015/10/19</td>\n",
       "      <td>08:56:00,0</td>\n",
       "      <td>17867.0</td>\n",
       "      <td>70487.0</td>\n",
       "      <td>-41.0449</td>\n",
       "      <td>7.2537</td>\n",
       "      <td>7.8084</td>\n",
       "      <td>7.8289</td>\n",
       "      <td>13212.0</td>\n",
       "      <td>5.5503</td>\n",
       "      <td>12444.0</td>\n",
       "      <td>0</td>\n",
       "    </tr>\n",
       "    <tr>\n",
       "      <th>169002</th>\n",
       "      <td>2015/07/08</td>\n",
       "      <td>08:41:00,0</td>\n",
       "      <td>25598.0</td>\n",
       "      <td>48883.0</td>\n",
       "      <td>-40.9252</td>\n",
       "      <td>7.2220</td>\n",
       "      <td>7.8006</td>\n",
       "      <td>7.7977</td>\n",
       "      <td>21150.0</td>\n",
       "      <td>5.5347</td>\n",
       "      <td>14074.0</td>\n",
       "      <td>2</td>\n",
       "    </tr>\n",
       "  </tbody>\n",
       "</table>\n",
       "</div>"
      ],
      "text/plain": [
       "              Data        Hora  Zona W1 - T1 Temp. (°C)  Zona W1 - RH1 HR (%)  \\\n",
       "#                                                                               \n",
       "169612  2015/07/08  18:51:00,0                  26744.0               40606.0   \n",
       "192532  2015/07/24  16:51:00,0                  26891.0               42462.0   \n",
       "88827   2015/05/13  16:26:00,0                  21175.0               52873.0   \n",
       "317337  2015/10/19  08:56:00,0                  17867.0               70487.0   \n",
       "169002  2015/07/08  08:41:00,0                  25598.0               48883.0   \n",
       "\n",
       "        Zona W1 - C1A Rotação (mm/m)  Zona W1 - P1 Deslocamento (mm)  \\\n",
       "#                                                                      \n",
       "169612                      -41.0134                          7.2081   \n",
       "192532                      -40.9819                          7.2200   \n",
       "88827                       -41.0764                          7.2081   \n",
       "317337                      -41.0449                          7.2537   \n",
       "169002                      -40.9252                          7.2220   \n",
       "\n",
       "        Zona W2 - F7 Deslocamento (mm)  Zona W2 - F8 Deslocamento (mm)  \\\n",
       "#                                                                        \n",
       "169612                          7.8006                          7.7977   \n",
       "192532                          7.8006                          7.7977   \n",
       "88827                           7.8084                          7.8133   \n",
       "317337                          7.8084                          7.8289   \n",
       "169002                          7.8006                          7.7977   \n",
       "\n",
       "        Zona W2 - T2 Temperatura (ºC)  Zona W2 - F4 Deslocamento (mm)  \\\n",
       "#                                                                       \n",
       "169612                        33150.0                          5.5113   \n",
       "192532                        25388.0                          5.5347   \n",
       "88827                         28650.0                          5.4957   \n",
       "317337                        13212.0                          5.5503   \n",
       "169002                        21150.0                          5.5347   \n",
       "\n",
       "        PtCondensação (°C)  #10597645-x  k-classes  \n",
       "#                                                   \n",
       "169612                          12267.0          2  \n",
       "192532                          13082.0          2  \n",
       "88827                           11200.0          2  \n",
       "317337                          12444.0          0  \n",
       "169002                          14074.0          2  "
      ]
     },
     "execution_count": 22,
     "metadata": {},
     "output_type": "execute_result"
    }
   ],
   "source": [
    "df.sample(5)"
   ]
  },
  {
   "cell_type": "code",
   "execution_count": 23,
   "metadata": {
    "scrolled": true
   },
   "outputs": [
    {
     "data": {
      "text/plain": [
       "2    151395\n",
       "1    107943\n",
       "0     91499\n",
       "Name: k-classes, dtype: int64"
      ]
     },
     "execution_count": 23,
     "metadata": {},
     "output_type": "execute_result"
    }
   ],
   "source": [
    "df['k-classes'].value_counts()"
   ]
  },
  {
   "cell_type": "markdown",
   "metadata": {},
   "source": [
    "# Referências"
   ]
  },
  {
   "cell_type": "markdown",
   "metadata": {},
   "source": [
    "https://en.wikipedia.org/wiki/K-means_clustering\n"
   ]
  },
  {
   "cell_type": "markdown",
   "metadata": {},
   "source": [
    "https://developers.google.com/machine-learning/clustering/workflow\n"
   ]
  },
  {
   "cell_type": "markdown",
   "metadata": {},
   "source": [
    "https://www.scikit-yb.org/en/latest/api/cluster/elbow.html\n"
   ]
  },
  {
   "cell_type": "markdown",
   "metadata": {},
   "source": [
    "https://scikit-learn.org/stable/modules/generated/sklearn.cluster.KMeans.html\n"
   ]
  },
  {
   "cell_type": "markdown",
   "metadata": {},
   "source": [
    "https://predictivehacks.com/k-means-elbow-method-code-for-python/"
   ]
  }
 ],
 "metadata": {
  "kernelspec": {
   "display_name": "Python 3",
   "language": "python",
   "name": "python3"
  },
  "language_info": {
   "codemirror_mode": {
    "name": "ipython",
    "version": 3
   },
   "file_extension": ".py",
   "mimetype": "text/x-python",
   "name": "python",
   "nbconvert_exporter": "python",
   "pygments_lexer": "ipython3",
   "version": "3.7.6"
  }
 },
 "nbformat": 4,
 "nbformat_minor": 4
}
