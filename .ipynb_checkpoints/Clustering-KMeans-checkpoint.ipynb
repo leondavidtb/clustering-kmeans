{
 "cells": [
  {
   "cell_type": "markdown",
   "metadata": {},
   "source": [
    "# K-Means"
   ]
  },
  {
   "cell_type": "markdown",
   "metadata": {},
   "source": [
    "Pertence à classe de algoritmos de Aprendizado de Máquina não supervisionado. Basicamente, algoritmos não supervisionados fazem inferências sobre um dataset apenas com dados de entrada, sem nenhum label ou dados de saída conhecidos. Consiste em particionar um conjunto de dados similares em classes usando uma média, chamada de centroide (k), de forma que o dado pertença à média mais próxima. Todos os pontos de dados são associados à um cluster de forma a reduzir a soma dos quadrados, ou seja, a distância entre cada ponto de dado e o centroide."
   ]
  },
  {
   "cell_type": "markdown",
   "metadata": {},
   "source": [
    "## Importando bibliotecas"
   ]
  },
  {
   "cell_type": "code",
   "execution_count": 1,
   "metadata": {},
   "outputs": [],
   "source": [
    "import pandas as pd\n",
    "import numpy as np\n",
    "import matplotlib.pyplot as plt\n",
    "from sklearn.cluster import KMeans\n",
    "%matplotlib inline "
   ]
  },
  {
   "cell_type": "markdown",
   "metadata": {},
   "source": [
    "## Lendo o arquivo"
   ]
  },
  {
   "cell_type": "code",
   "execution_count": 2,
   "metadata": {},
   "outputs": [],
   "source": [
    "df = pd.read_csv('fozcoa.csv', index_col=0, delimiter=\",\", low_memory=False)"
   ]
  },
  {
   "cell_type": "markdown",
   "metadata": {},
   "source": [
    "## Imprimindo alguns dados"
   ]
  },
  {
   "cell_type": "code",
   "execution_count": 3,
   "metadata": {},
   "outputs": [
    {
     "data": {
      "text/html": [
       "<div>\n",
       "<style scoped>\n",
       "    .dataframe tbody tr th:only-of-type {\n",
       "        vertical-align: middle;\n",
       "    }\n",
       "\n",
       "    .dataframe tbody tr th {\n",
       "        vertical-align: top;\n",
       "    }\n",
       "\n",
       "    .dataframe thead th {\n",
       "        text-align: right;\n",
       "    }\n",
       "</style>\n",
       "<table border=\"1\" class=\"dataframe\">\n",
       "  <thead>\n",
       "    <tr style=\"text-align: right;\">\n",
       "      <th></th>\n",
       "      <th>Data</th>\n",
       "      <th>Hora</th>\n",
       "      <th>Zona W1 - T1 Temp. (°C)</th>\n",
       "      <th>Zona W1 - RH1 HR (%)</th>\n",
       "      <th>Zona W1 - C1A Rotação (mm/m)</th>\n",
       "      <th>Zona W1 - P1 Deslocamento (mm)</th>\n",
       "      <th>Zona W2 - F7 Deslocamento (mm)</th>\n",
       "      <th>Zona W2 - F8 Deslocamento (mm)</th>\n",
       "      <th>Zona W2 - T2 Temperatura (ºC)</th>\n",
       "      <th>Zona W2 - F4 Deslocamento (mm)</th>\n",
       "      <th>PtCondensação (°C)  #10597645-x</th>\n",
       "    </tr>\n",
       "    <tr>\n",
       "      <th>#</th>\n",
       "      <th></th>\n",
       "      <th></th>\n",
       "      <th></th>\n",
       "      <th></th>\n",
       "      <th></th>\n",
       "      <th></th>\n",
       "      <th></th>\n",
       "      <th></th>\n",
       "      <th></th>\n",
       "      <th></th>\n",
       "      <th></th>\n",
       "    </tr>\n",
       "  </thead>\n",
       "  <tbody>\n",
       "    <tr>\n",
       "      <th>117179</th>\n",
       "      <td>2015/06/02</td>\n",
       "      <td>08:58:00,0</td>\n",
       "      <td>21700</td>\n",
       "      <td>52822</td>\n",
       "      <td>-40.9567</td>\n",
       "      <td>7.2369</td>\n",
       "      <td>7.8162</td>\n",
       "      <td>7.8133</td>\n",
       "      <td>18312</td>\n",
       "      <td>5.5347</td>\n",
       "      <td>11671</td>\n",
       "    </tr>\n",
       "    <tr>\n",
       "      <th>231284</th>\n",
       "      <td>2015/08/20</td>\n",
       "      <td>14:43:00,0</td>\n",
       "      <td>25380</td>\n",
       "      <td>37756</td>\n",
       "      <td>-41.0134</td>\n",
       "      <td>7.2151</td>\n",
       "      <td>7.8084</td>\n",
       "      <td>7.8055</td>\n",
       "      <td>31662</td>\n",
       "      <td>5.5347</td>\n",
       "      <td>9954</td>\n",
       "    </tr>\n",
       "    <tr>\n",
       "      <th>167202</th>\n",
       "      <td>2015/07/07</td>\n",
       "      <td>02:41:00,0</td>\n",
       "      <td>25841</td>\n",
       "      <td>46986</td>\n",
       "      <td>-40.9567</td>\n",
       "      <td>7.2180</td>\n",
       "      <td>7.8006</td>\n",
       "      <td>7.7977</td>\n",
       "      <td>20288</td>\n",
       "      <td>5.5425</td>\n",
       "      <td>13686</td>\n",
       "    </tr>\n",
       "    <tr>\n",
       "      <th>147819</th>\n",
       "      <td>2015/06/23</td>\n",
       "      <td>15:38:00,0</td>\n",
       "      <td>23761</td>\n",
       "      <td>54646</td>\n",
       "      <td>-40.9819</td>\n",
       "      <td>7.2151</td>\n",
       "      <td>7.8006</td>\n",
       "      <td>7.8055</td>\n",
       "      <td>23788</td>\n",
       "      <td>5.5269</td>\n",
       "      <td>14101</td>\n",
       "    </tr>\n",
       "    <tr>\n",
       "      <th>271690</th>\n",
       "      <td>2015/09/17</td>\n",
       "      <td>16:09:00,0</td>\n",
       "      <td>20388</td>\n",
       "      <td>49318</td>\n",
       "      <td>-41.0134</td>\n",
       "      <td>7.2487</td>\n",
       "      <td>7.8006</td>\n",
       "      <td>7.8211</td>\n",
       "      <td>17825</td>\n",
       "      <td>5.5425</td>\n",
       "      <td>9431</td>\n",
       "    </tr>\n",
       "  </tbody>\n",
       "</table>\n",
       "</div>"
      ],
      "text/plain": [
       "              Data        Hora Zona W1 - T1 Temp. (°C) Zona W1 - RH1 HR (%)  \\\n",
       "#                                                                             \n",
       "117179  2015/06/02  08:58:00,0                   21700                52822   \n",
       "231284  2015/08/20  14:43:00,0                   25380                37756   \n",
       "167202  2015/07/07  02:41:00,0                   25841                46986   \n",
       "147819  2015/06/23  15:38:00,0                   23761                54646   \n",
       "271690  2015/09/17  16:09:00,0                   20388                49318   \n",
       "\n",
       "       Zona W1 - C1A Rotação (mm/m) Zona W1 - P1 Deslocamento (mm)  \\\n",
       "#                                                                    \n",
       "117179                     -40.9567                         7.2369   \n",
       "231284                     -41.0134                         7.2151   \n",
       "167202                     -40.9567                         7.2180   \n",
       "147819                     -40.9819                         7.2151   \n",
       "271690                     -41.0134                         7.2487   \n",
       "\n",
       "       Zona W2 - F7 Deslocamento (mm) Zona W2 - F8 Deslocamento (mm)  \\\n",
       "#                                                                      \n",
       "117179                         7.8162                         7.8133   \n",
       "231284                         7.8084                         7.8055   \n",
       "167202                         7.8006                         7.7977   \n",
       "147819                         7.8006                         7.8055   \n",
       "271690                         7.8006                         7.8211   \n",
       "\n",
       "       Zona W2 - T2 Temperatura (ºC) Zona W2 - F4 Deslocamento (mm)  \\\n",
       "#                                                                     \n",
       "117179                         18312                         5.5347   \n",
       "231284                         31662                         5.5347   \n",
       "167202                         20288                         5.5425   \n",
       "147819                         23788                         5.5269   \n",
       "271690                         17825                         5.5425   \n",
       "\n",
       "       PtCondensação (°C)  #10597645-x  \n",
       "#                                       \n",
       "117179                           11671  \n",
       "231284                            9954  \n",
       "167202                           13686  \n",
       "147819                           14101  \n",
       "271690                            9431  "
      ]
     },
     "execution_count": 3,
     "metadata": {},
     "output_type": "execute_result"
    }
   ],
   "source": [
    "df.sample(5)"
   ]
  },
  {
   "cell_type": "markdown",
   "metadata": {},
   "source": [
    "## Convertendo colunas para Float"
   ]
  },
  {
   "cell_type": "code",
   "execution_count": 4,
   "metadata": {},
   "outputs": [],
   "source": [
    "df['PtCondensação (°C)  #10597645-x'] = pd.to_numeric(df['PtCondensação (°C)  #10597645-x'],errors='coerce')\n",
    "df['Zona W2 - F4 Deslocamento (mm)'] = pd.to_numeric(df['Zona W2 - F4 Deslocamento (mm)'],errors='coerce')\n",
    "df['Zona W1 - T1 Temp. (°C)'] = pd.to_numeric(df['Zona W1 - T1 Temp. (°C)'],errors='coerce')\n",
    "df['Zona W1 - RH1 HR (%)'] = pd.to_numeric(df['Zona W1 - RH1 HR (%)'],errors='coerce')\n",
    "df['Zona W1 - C1A Rotação (mm/m)'] = pd.to_numeric(df['Zona W1 - C1A Rotação (mm/m)'],errors='coerce')\n",
    "df['Zona W1 - P1 Deslocamento (mm)'] = pd.to_numeric(df['Zona W1 - P1 Deslocamento (mm)'],errors='coerce')\n",
    "df['Zona W2 - F7 Deslocamento (mm)'] = pd.to_numeric(df['Zona W2 - F7 Deslocamento (mm)'],errors='coerce')\n",
    "df['Zona W2 - F8 Deslocamento (mm)'] = pd.to_numeric(df['Zona W2 - F8 Deslocamento (mm)'],errors='coerce')\n",
    "df['Zona W2 - T2 Temperatura (ºC)'] = pd.to_numeric(df['Zona W2 - T2 Temperatura (ºC)'],errors='coerce')"
   ]
  },
  {
   "cell_type": "markdown",
   "metadata": {},
   "source": [
    "## Preenchendo os valores nulos com 0"
   ]
  },
  {
   "cell_type": "code",
   "execution_count": 5,
   "metadata": {},
   "outputs": [],
   "source": [
    "df = df.fillna(0)"
   ]
  },
  {
   "cell_type": "markdown",
   "metadata": {},
   "source": [
    "## Criando um array à partir dos dados sem as colunas data e hora"
   ]
  },
  {
   "cell_type": "code",
   "execution_count": 6,
   "metadata": {},
   "outputs": [],
   "source": [
    "X = np.array(df.drop(['Data', 'Hora'], axis = 1))"
   ]
  },
  {
   "cell_type": "markdown",
   "metadata": {},
   "source": [
    "## Criando um objeto kmeans com 5 clusters. random_state=0 determina um número aleatório para inicialização do centroide."
   ]
  },
  {
   "cell_type": "code",
   "execution_count": 7,
   "metadata": {},
   "outputs": [],
   "source": [
    "kmeans = KMeans(n_clusters=5, random_state=0)"
   ]
  },
  {
   "cell_type": "markdown",
   "metadata": {},
   "source": [
    "## Treinamento do K-Means"
   ]
  },
  {
   "cell_type": "code",
   "execution_count": 8,
   "metadata": {},
   "outputs": [
    {
     "data": {
      "text/plain": [
       "KMeans(algorithm='auto', copy_x=True, init='k-means++', max_iter=300,\n",
       "       n_clusters=5, n_init=10, n_jobs=None, precompute_distances='auto',\n",
       "       random_state=0, tol=0.0001, verbose=0)"
      ]
     },
     "execution_count": 8,
     "metadata": {},
     "output_type": "execute_result"
    }
   ],
   "source": [
    "kmeans.fit(X)"
   ]
  },
  {
   "cell_type": "markdown",
   "metadata": {},
   "source": [
    "## Criando uma nova coluna aplicando os labels "
   ]
  },
  {
   "cell_type": "code",
   "execution_count": 9,
   "metadata": {},
   "outputs": [],
   "source": [
    "df['k-classes'] = kmeans.labels_"
   ]
  },
  {
   "cell_type": "markdown",
   "metadata": {},
   "source": [
    "## Visualizando os dados com as classes geradas pelo K-Means"
   ]
  },
  {
   "cell_type": "code",
   "execution_count": 10,
   "metadata": {},
   "outputs": [
    {
     "data": {
      "text/html": [
       "<div>\n",
       "<style scoped>\n",
       "    .dataframe tbody tr th:only-of-type {\n",
       "        vertical-align: middle;\n",
       "    }\n",
       "\n",
       "    .dataframe tbody tr th {\n",
       "        vertical-align: top;\n",
       "    }\n",
       "\n",
       "    .dataframe thead th {\n",
       "        text-align: right;\n",
       "    }\n",
       "</style>\n",
       "<table border=\"1\" class=\"dataframe\">\n",
       "  <thead>\n",
       "    <tr style=\"text-align: right;\">\n",
       "      <th></th>\n",
       "      <th>Data</th>\n",
       "      <th>Hora</th>\n",
       "      <th>Zona W1 - T1 Temp. (°C)</th>\n",
       "      <th>Zona W1 - RH1 HR (%)</th>\n",
       "      <th>Zona W1 - C1A Rotação (mm/m)</th>\n",
       "      <th>Zona W1 - P1 Deslocamento (mm)</th>\n",
       "      <th>Zona W2 - F7 Deslocamento (mm)</th>\n",
       "      <th>Zona W2 - F8 Deslocamento (mm)</th>\n",
       "      <th>Zona W2 - T2 Temperatura (ºC)</th>\n",
       "      <th>Zona W2 - F4 Deslocamento (mm)</th>\n",
       "      <th>PtCondensação (°C)  #10597645-x</th>\n",
       "      <th>k-classes</th>\n",
       "    </tr>\n",
       "    <tr>\n",
       "      <th>#</th>\n",
       "      <th></th>\n",
       "      <th></th>\n",
       "      <th></th>\n",
       "      <th></th>\n",
       "      <th></th>\n",
       "      <th></th>\n",
       "      <th></th>\n",
       "      <th></th>\n",
       "      <th></th>\n",
       "      <th></th>\n",
       "      <th></th>\n",
       "      <th></th>\n",
       "    </tr>\n",
       "  </thead>\n",
       "  <tbody>\n",
       "    <tr>\n",
       "      <th>1</th>\n",
       "      <td>2015/03/13</td>\n",
       "      <td>00:00:00,0</td>\n",
       "      <td>13185.0</td>\n",
       "      <td>60217.0</td>\n",
       "      <td>-41.1079</td>\n",
       "      <td>7.2685</td>\n",
       "      <td>7.8240</td>\n",
       "      <td>7.8367</td>\n",
       "      <td>9638.0</td>\n",
       "      <td>5.5425</td>\n",
       "      <td>5657.0</td>\n",
       "      <td>4</td>\n",
       "    </tr>\n",
       "    <tr>\n",
       "      <th>2</th>\n",
       "      <td>2015/03/13</td>\n",
       "      <td>00:01:00,0</td>\n",
       "      <td>13185.0</td>\n",
       "      <td>60217.0</td>\n",
       "      <td>-41.0764</td>\n",
       "      <td>7.2735</td>\n",
       "      <td>7.8240</td>\n",
       "      <td>7.8289</td>\n",
       "      <td>9638.0</td>\n",
       "      <td>5.5503</td>\n",
       "      <td>5657.0</td>\n",
       "      <td>4</td>\n",
       "    </tr>\n",
       "    <tr>\n",
       "      <th>3</th>\n",
       "      <td>2015/03/13</td>\n",
       "      <td>00:02:00,0</td>\n",
       "      <td>13185.0</td>\n",
       "      <td>60217.0</td>\n",
       "      <td>-41.0764</td>\n",
       "      <td>7.2705</td>\n",
       "      <td>7.8162</td>\n",
       "      <td>7.8289</td>\n",
       "      <td>9700.0</td>\n",
       "      <td>5.5347</td>\n",
       "      <td>5657.0</td>\n",
       "      <td>4</td>\n",
       "    </tr>\n",
       "    <tr>\n",
       "      <th>4</th>\n",
       "      <td>2015/03/13</td>\n",
       "      <td>00:03:00,0</td>\n",
       "      <td>13185.0</td>\n",
       "      <td>60247.0</td>\n",
       "      <td>-41.0764</td>\n",
       "      <td>7.2705</td>\n",
       "      <td>7.8240</td>\n",
       "      <td>7.8289</td>\n",
       "      <td>9700.0</td>\n",
       "      <td>5.5347</td>\n",
       "      <td>5664.0</td>\n",
       "      <td>4</td>\n",
       "    </tr>\n",
       "    <tr>\n",
       "      <th>5</th>\n",
       "      <td>2015/03/13</td>\n",
       "      <td>00:04:00,0</td>\n",
       "      <td>13185.0</td>\n",
       "      <td>60306.0</td>\n",
       "      <td>-41.1079</td>\n",
       "      <td>7.2705</td>\n",
       "      <td>7.8240</td>\n",
       "      <td>7.8211</td>\n",
       "      <td>9700.0</td>\n",
       "      <td>5.5425</td>\n",
       "      <td>5678.0</td>\n",
       "      <td>4</td>\n",
       "    </tr>\n",
       "  </tbody>\n",
       "</table>\n",
       "</div>"
      ],
      "text/plain": [
       "         Data        Hora  Zona W1 - T1 Temp. (°C)  Zona W1 - RH1 HR (%)  \\\n",
       "#                                                                          \n",
       "1  2015/03/13  00:00:00,0                  13185.0               60217.0   \n",
       "2  2015/03/13  00:01:00,0                  13185.0               60217.0   \n",
       "3  2015/03/13  00:02:00,0                  13185.0               60217.0   \n",
       "4  2015/03/13  00:03:00,0                  13185.0               60247.0   \n",
       "5  2015/03/13  00:04:00,0                  13185.0               60306.0   \n",
       "\n",
       "   Zona W1 - C1A Rotação (mm/m)  Zona W1 - P1 Deslocamento (mm)  \\\n",
       "#                                                                 \n",
       "1                      -41.1079                          7.2685   \n",
       "2                      -41.0764                          7.2735   \n",
       "3                      -41.0764                          7.2705   \n",
       "4                      -41.0764                          7.2705   \n",
       "5                      -41.1079                          7.2705   \n",
       "\n",
       "   Zona W2 - F7 Deslocamento (mm)  Zona W2 - F8 Deslocamento (mm)  \\\n",
       "#                                                                   \n",
       "1                          7.8240                          7.8367   \n",
       "2                          7.8240                          7.8289   \n",
       "3                          7.8162                          7.8289   \n",
       "4                          7.8240                          7.8289   \n",
       "5                          7.8240                          7.8211   \n",
       "\n",
       "   Zona W2 - T2 Temperatura (ºC)  Zona W2 - F4 Deslocamento (mm)  \\\n",
       "#                                                                  \n",
       "1                         9638.0                          5.5425   \n",
       "2                         9638.0                          5.5503   \n",
       "3                         9700.0                          5.5347   \n",
       "4                         9700.0                          5.5347   \n",
       "5                         9700.0                          5.5425   \n",
       "\n",
       "   PtCondensação (°C)  #10597645-x  k-classes  \n",
       "#                                              \n",
       "1                           5657.0          4  \n",
       "2                           5657.0          4  \n",
       "3                           5657.0          4  \n",
       "4                           5664.0          4  \n",
       "5                           5678.0          4  "
      ]
     },
     "execution_count": 10,
     "metadata": {},
     "output_type": "execute_result"
    }
   ],
   "source": [
    "df.head()"
   ]
  },
  {
   "cell_type": "code",
   "execution_count": 11,
   "metadata": {},
   "outputs": [
    {
     "data": {
      "text/html": [
       "<div>\n",
       "<style scoped>\n",
       "    .dataframe tbody tr th:only-of-type {\n",
       "        vertical-align: middle;\n",
       "    }\n",
       "\n",
       "    .dataframe tbody tr th {\n",
       "        vertical-align: top;\n",
       "    }\n",
       "\n",
       "    .dataframe thead th {\n",
       "        text-align: right;\n",
       "    }\n",
       "</style>\n",
       "<table border=\"1\" class=\"dataframe\">\n",
       "  <thead>\n",
       "    <tr style=\"text-align: right;\">\n",
       "      <th></th>\n",
       "      <th>Data</th>\n",
       "      <th>Hora</th>\n",
       "      <th>Zona W1 - T1 Temp. (°C)</th>\n",
       "      <th>Zona W1 - RH1 HR (%)</th>\n",
       "      <th>Zona W1 - C1A Rotação (mm/m)</th>\n",
       "      <th>Zona W1 - P1 Deslocamento (mm)</th>\n",
       "      <th>Zona W2 - F7 Deslocamento (mm)</th>\n",
       "      <th>Zona W2 - F8 Deslocamento (mm)</th>\n",
       "      <th>Zona W2 - T2 Temperatura (ºC)</th>\n",
       "      <th>Zona W2 - F4 Deslocamento (mm)</th>\n",
       "      <th>PtCondensação (°C)  #10597645-x</th>\n",
       "      <th>k-classes</th>\n",
       "    </tr>\n",
       "    <tr>\n",
       "      <th>#</th>\n",
       "      <th></th>\n",
       "      <th></th>\n",
       "      <th></th>\n",
       "      <th></th>\n",
       "      <th></th>\n",
       "      <th></th>\n",
       "      <th></th>\n",
       "      <th></th>\n",
       "      <th></th>\n",
       "      <th></th>\n",
       "      <th></th>\n",
       "      <th></th>\n",
       "    </tr>\n",
       "  </thead>\n",
       "  <tbody>\n",
       "    <tr>\n",
       "      <th>350823</th>\n",
       "      <td>2015/11/11</td>\n",
       "      <td>15:02:00,0</td>\n",
       "      <td>16034.0</td>\n",
       "      <td>72098.0</td>\n",
       "      <td>-41.0764</td>\n",
       "      <td>7.2586</td>\n",
       "      <td>7.8084</td>\n",
       "      <td>7.8211</td>\n",
       "      <td>9700.0</td>\n",
       "      <td>5.5503</td>\n",
       "      <td>11025.0</td>\n",
       "      <td>2</td>\n",
       "    </tr>\n",
       "    <tr>\n",
       "      <th>350824</th>\n",
       "      <td>2015/11/11</td>\n",
       "      <td>15:03:00,0</td>\n",
       "      <td>16034.0</td>\n",
       "      <td>72040.0</td>\n",
       "      <td>-41.0764</td>\n",
       "      <td>7.2616</td>\n",
       "      <td>7.8006</td>\n",
       "      <td>7.8289</td>\n",
       "      <td>9762.0</td>\n",
       "      <td>5.5503</td>\n",
       "      <td>11013.0</td>\n",
       "      <td>2</td>\n",
       "    </tr>\n",
       "    <tr>\n",
       "      <th>350825</th>\n",
       "      <td>2015/11/11</td>\n",
       "      <td>15:04:00,0</td>\n",
       "      <td>16034.0</td>\n",
       "      <td>72040.0</td>\n",
       "      <td>-41.0764</td>\n",
       "      <td>7.2616</td>\n",
       "      <td>7.8084</td>\n",
       "      <td>7.8289</td>\n",
       "      <td>9762.0</td>\n",
       "      <td>5.5582</td>\n",
       "      <td>11013.0</td>\n",
       "      <td>2</td>\n",
       "    </tr>\n",
       "    <tr>\n",
       "      <th>350826</th>\n",
       "      <td>2015/11/11</td>\n",
       "      <td>15:05:00,0</td>\n",
       "      <td>16034.0</td>\n",
       "      <td>72040.0</td>\n",
       "      <td>-41.0764</td>\n",
       "      <td>7.2616</td>\n",
       "      <td>7.8162</td>\n",
       "      <td>7.8289</td>\n",
       "      <td>9762.0</td>\n",
       "      <td>5.5582</td>\n",
       "      <td>11013.0</td>\n",
       "      <td>2</td>\n",
       "    </tr>\n",
       "    <tr>\n",
       "      <th>350827</th>\n",
       "      <td>2015/11/11</td>\n",
       "      <td>15:06:00,0</td>\n",
       "      <td>16034.0</td>\n",
       "      <td>72069.0</td>\n",
       "      <td>-41.0764</td>\n",
       "      <td>7.2586</td>\n",
       "      <td>7.8084</td>\n",
       "      <td>7.8367</td>\n",
       "      <td>9825.0</td>\n",
       "      <td>5.5347</td>\n",
       "      <td>11019.0</td>\n",
       "      <td>2</td>\n",
       "    </tr>\n",
       "  </tbody>\n",
       "</table>\n",
       "</div>"
      ],
      "text/plain": [
       "              Data        Hora  Zona W1 - T1 Temp. (°C)  Zona W1 - RH1 HR (%)  \\\n",
       "#                                                                               \n",
       "350823  2015/11/11  15:02:00,0                  16034.0               72098.0   \n",
       "350824  2015/11/11  15:03:00,0                  16034.0               72040.0   \n",
       "350825  2015/11/11  15:04:00,0                  16034.0               72040.0   \n",
       "350826  2015/11/11  15:05:00,0                  16034.0               72040.0   \n",
       "350827  2015/11/11  15:06:00,0                  16034.0               72069.0   \n",
       "\n",
       "        Zona W1 - C1A Rotação (mm/m)  Zona W1 - P1 Deslocamento (mm)  \\\n",
       "#                                                                      \n",
       "350823                      -41.0764                          7.2586   \n",
       "350824                      -41.0764                          7.2616   \n",
       "350825                      -41.0764                          7.2616   \n",
       "350826                      -41.0764                          7.2616   \n",
       "350827                      -41.0764                          7.2586   \n",
       "\n",
       "        Zona W2 - F7 Deslocamento (mm)  Zona W2 - F8 Deslocamento (mm)  \\\n",
       "#                                                                        \n",
       "350823                          7.8084                          7.8211   \n",
       "350824                          7.8006                          7.8289   \n",
       "350825                          7.8084                          7.8289   \n",
       "350826                          7.8162                          7.8289   \n",
       "350827                          7.8084                          7.8367   \n",
       "\n",
       "        Zona W2 - T2 Temperatura (ºC)  Zona W2 - F4 Deslocamento (mm)  \\\n",
       "#                                                                       \n",
       "350823                         9700.0                          5.5503   \n",
       "350824                         9762.0                          5.5503   \n",
       "350825                         9762.0                          5.5582   \n",
       "350826                         9762.0                          5.5582   \n",
       "350827                         9825.0                          5.5347   \n",
       "\n",
       "        PtCondensação (°C)  #10597645-x  k-classes  \n",
       "#                                                   \n",
       "350823                          11025.0          2  \n",
       "350824                          11013.0          2  \n",
       "350825                          11013.0          2  \n",
       "350826                          11013.0          2  \n",
       "350827                          11019.0          2  "
      ]
     },
     "execution_count": 11,
     "metadata": {},
     "output_type": "execute_result"
    }
   ],
   "source": [
    "df.tail()"
   ]
  },
  {
   "cell_type": "code",
   "execution_count": 12,
   "metadata": {},
   "outputs": [
    {
     "data": {
      "text/html": [
       "<div>\n",
       "<style scoped>\n",
       "    .dataframe tbody tr th:only-of-type {\n",
       "        vertical-align: middle;\n",
       "    }\n",
       "\n",
       "    .dataframe tbody tr th {\n",
       "        vertical-align: top;\n",
       "    }\n",
       "\n",
       "    .dataframe thead th {\n",
       "        text-align: right;\n",
       "    }\n",
       "</style>\n",
       "<table border=\"1\" class=\"dataframe\">\n",
       "  <thead>\n",
       "    <tr style=\"text-align: right;\">\n",
       "      <th></th>\n",
       "      <th>Data</th>\n",
       "      <th>Hora</th>\n",
       "      <th>Zona W1 - T1 Temp. (°C)</th>\n",
       "      <th>Zona W1 - RH1 HR (%)</th>\n",
       "      <th>Zona W1 - C1A Rotação (mm/m)</th>\n",
       "      <th>Zona W1 - P1 Deslocamento (mm)</th>\n",
       "      <th>Zona W2 - F7 Deslocamento (mm)</th>\n",
       "      <th>Zona W2 - F8 Deslocamento (mm)</th>\n",
       "      <th>Zona W2 - T2 Temperatura (ºC)</th>\n",
       "      <th>Zona W2 - F4 Deslocamento (mm)</th>\n",
       "      <th>PtCondensação (°C)  #10597645-x</th>\n",
       "      <th>k-classes</th>\n",
       "    </tr>\n",
       "    <tr>\n",
       "      <th>#</th>\n",
       "      <th></th>\n",
       "      <th></th>\n",
       "      <th></th>\n",
       "      <th></th>\n",
       "      <th></th>\n",
       "      <th></th>\n",
       "      <th></th>\n",
       "      <th></th>\n",
       "      <th></th>\n",
       "      <th></th>\n",
       "      <th></th>\n",
       "      <th></th>\n",
       "    </tr>\n",
       "  </thead>\n",
       "  <tbody>\n",
       "    <tr>\n",
       "      <th>282068</th>\n",
       "      <td>2015/09/24</td>\n",
       "      <td>21:07:00,0</td>\n",
       "      <td>20627.0</td>\n",
       "      <td>52453.0</td>\n",
       "      <td>-41.0449</td>\n",
       "      <td>7.2468</td>\n",
       "      <td>7.8084</td>\n",
       "      <td>7.8289</td>\n",
       "      <td>20900.0</td>\n",
       "      <td>5.5425</td>\n",
       "      <td>10573.0</td>\n",
       "      <td>0</td>\n",
       "    </tr>\n",
       "    <tr>\n",
       "      <th>167244</th>\n",
       "      <td>2015/07/07</td>\n",
       "      <td>03:23:00,0</td>\n",
       "      <td>25793.0</td>\n",
       "      <td>46884.0</td>\n",
       "      <td>-40.9252</td>\n",
       "      <td>7.2180</td>\n",
       "      <td>7.8084</td>\n",
       "      <td>7.8055</td>\n",
       "      <td>19800.0</td>\n",
       "      <td>5.5425</td>\n",
       "      <td>13609.0</td>\n",
       "      <td>0</td>\n",
       "    </tr>\n",
       "    <tr>\n",
       "      <th>245852</th>\n",
       "      <td>2015/08/30</td>\n",
       "      <td>17:31:00,0</td>\n",
       "      <td>26744.0</td>\n",
       "      <td>46872.0</td>\n",
       "      <td>-41.0449</td>\n",
       "      <td>7.2101</td>\n",
       "      <td>7.8006</td>\n",
       "      <td>7.7977</td>\n",
       "      <td>31850.0</td>\n",
       "      <td>5.5269</td>\n",
       "      <td>14471.0</td>\n",
       "      <td>1</td>\n",
       "    </tr>\n",
       "    <tr>\n",
       "      <th>337480</th>\n",
       "      <td>2015/11/02</td>\n",
       "      <td>08:39:00,0</td>\n",
       "      <td>16677.0</td>\n",
       "      <td>67618.0</td>\n",
       "      <td>-41.0764</td>\n",
       "      <td>7.2537</td>\n",
       "      <td>7.8084</td>\n",
       "      <td>7.8289</td>\n",
       "      <td>13462.0</td>\n",
       "      <td>5.5582</td>\n",
       "      <td>10676.0</td>\n",
       "      <td>2</td>\n",
       "    </tr>\n",
       "    <tr>\n",
       "      <th>32616</th>\n",
       "      <td>2015/04/04</td>\n",
       "      <td>15:35:00,0</td>\n",
       "      <td>16796.0</td>\n",
       "      <td>48316.0</td>\n",
       "      <td>-41.0449</td>\n",
       "      <td>7.2537</td>\n",
       "      <td>7.8240</td>\n",
       "      <td>7.8211</td>\n",
       "      <td>19050.0</td>\n",
       "      <td>5.5425</td>\n",
       "      <td>5835.0</td>\n",
       "      <td>3</td>\n",
       "    </tr>\n",
       "    <tr>\n",
       "      <th>249410</th>\n",
       "      <td>2015/09/02</td>\n",
       "      <td>04:49:00,0</td>\n",
       "      <td>25162.0</td>\n",
       "      <td>50550.0</td>\n",
       "      <td>-40.9567</td>\n",
       "      <td>7.2299</td>\n",
       "      <td>7.8162</td>\n",
       "      <td>7.8133</td>\n",
       "      <td>19175.0</td>\n",
       "      <td>5.5582</td>\n",
       "      <td>14192.0</td>\n",
       "      <td>0</td>\n",
       "    </tr>\n",
       "    <tr>\n",
       "      <th>273926</th>\n",
       "      <td>2015/09/19</td>\n",
       "      <td>05:25:00,0</td>\n",
       "      <td>19627.0</td>\n",
       "      <td>48084.0</td>\n",
       "      <td>-40.9819</td>\n",
       "      <td>7.2517</td>\n",
       "      <td>7.8162</td>\n",
       "      <td>7.8211</td>\n",
       "      <td>11488.0</td>\n",
       "      <td>5.5644</td>\n",
       "      <td>8358.0</td>\n",
       "      <td>3</td>\n",
       "    </tr>\n",
       "    <tr>\n",
       "      <th>158771</th>\n",
       "      <td>2015/07/01</td>\n",
       "      <td>06:10:00,0</td>\n",
       "      <td>26036.0</td>\n",
       "      <td>49068.0</td>\n",
       "      <td>-40.9252</td>\n",
       "      <td>7.2200</td>\n",
       "      <td>7.8006</td>\n",
       "      <td>7.7899</td>\n",
       "      <td>17950.0</td>\n",
       "      <td>5.5425</td>\n",
       "      <td>14534.0</td>\n",
       "      <td>0</td>\n",
       "    </tr>\n",
       "    <tr>\n",
       "      <th>291557</th>\n",
       "      <td>2015/10/01</td>\n",
       "      <td>11:16:00,0</td>\n",
       "      <td>20793.0</td>\n",
       "      <td>45565.0</td>\n",
       "      <td>-41.0134</td>\n",
       "      <td>7.2517</td>\n",
       "      <td>7.8084</td>\n",
       "      <td>7.8211</td>\n",
       "      <td>18750.0</td>\n",
       "      <td>5.5582</td>\n",
       "      <td>8628.0</td>\n",
       "      <td>3</td>\n",
       "    </tr>\n",
       "    <tr>\n",
       "      <th>37065</th>\n",
       "      <td>2015/04/07</td>\n",
       "      <td>17:44:00,0</td>\n",
       "      <td>17249.0</td>\n",
       "      <td>52725.0</td>\n",
       "      <td>-41.0449</td>\n",
       "      <td>7.2487</td>\n",
       "      <td>7.8162</td>\n",
       "      <td>7.8211</td>\n",
       "      <td>20650.0</td>\n",
       "      <td>5.5347</td>\n",
       "      <td>7523.0</td>\n",
       "      <td>0</td>\n",
       "    </tr>\n",
       "  </tbody>\n",
       "</table>\n",
       "</div>"
      ],
      "text/plain": [
       "              Data        Hora  Zona W1 - T1 Temp. (°C)  Zona W1 - RH1 HR (%)  \\\n",
       "#                                                                               \n",
       "282068  2015/09/24  21:07:00,0                  20627.0               52453.0   \n",
       "167244  2015/07/07  03:23:00,0                  25793.0               46884.0   \n",
       "245852  2015/08/30  17:31:00,0                  26744.0               46872.0   \n",
       "337480  2015/11/02  08:39:00,0                  16677.0               67618.0   \n",
       "32616   2015/04/04  15:35:00,0                  16796.0               48316.0   \n",
       "249410  2015/09/02  04:49:00,0                  25162.0               50550.0   \n",
       "273926  2015/09/19  05:25:00,0                  19627.0               48084.0   \n",
       "158771  2015/07/01  06:10:00,0                  26036.0               49068.0   \n",
       "291557  2015/10/01  11:16:00,0                  20793.0               45565.0   \n",
       "37065   2015/04/07  17:44:00,0                  17249.0               52725.0   \n",
       "\n",
       "        Zona W1 - C1A Rotação (mm/m)  Zona W1 - P1 Deslocamento (mm)  \\\n",
       "#                                                                      \n",
       "282068                      -41.0449                          7.2468   \n",
       "167244                      -40.9252                          7.2180   \n",
       "245852                      -41.0449                          7.2101   \n",
       "337480                      -41.0764                          7.2537   \n",
       "32616                       -41.0449                          7.2537   \n",
       "249410                      -40.9567                          7.2299   \n",
       "273926                      -40.9819                          7.2517   \n",
       "158771                      -40.9252                          7.2200   \n",
       "291557                      -41.0134                          7.2517   \n",
       "37065                       -41.0449                          7.2487   \n",
       "\n",
       "        Zona W2 - F7 Deslocamento (mm)  Zona W2 - F8 Deslocamento (mm)  \\\n",
       "#                                                                        \n",
       "282068                          7.8084                          7.8289   \n",
       "167244                          7.8084                          7.8055   \n",
       "245852                          7.8006                          7.7977   \n",
       "337480                          7.8084                          7.8289   \n",
       "32616                           7.8240                          7.8211   \n",
       "249410                          7.8162                          7.8133   \n",
       "273926                          7.8162                          7.8211   \n",
       "158771                          7.8006                          7.7899   \n",
       "291557                          7.8084                          7.8211   \n",
       "37065                           7.8162                          7.8211   \n",
       "\n",
       "        Zona W2 - T2 Temperatura (ºC)  Zona W2 - F4 Deslocamento (mm)  \\\n",
       "#                                                                       \n",
       "282068                        20900.0                          5.5425   \n",
       "167244                        19800.0                          5.5425   \n",
       "245852                        31850.0                          5.5269   \n",
       "337480                        13462.0                          5.5582   \n",
       "32616                         19050.0                          5.5425   \n",
       "249410                        19175.0                          5.5582   \n",
       "273926                        11488.0                          5.5644   \n",
       "158771                        17950.0                          5.5425   \n",
       "291557                        18750.0                          5.5582   \n",
       "37065                         20650.0                          5.5347   \n",
       "\n",
       "        PtCondensação (°C)  #10597645-x  k-classes  \n",
       "#                                                   \n",
       "282068                          10573.0          0  \n",
       "167244                          13609.0          0  \n",
       "245852                          14471.0          1  \n",
       "337480                          10676.0          2  \n",
       "32616                            5835.0          3  \n",
       "249410                          14192.0          0  \n",
       "273926                           8358.0          3  \n",
       "158771                          14534.0          0  \n",
       "291557                           8628.0          3  \n",
       "37065                            7523.0          0  "
      ]
     },
     "execution_count": 12,
     "metadata": {},
     "output_type": "execute_result"
    }
   ],
   "source": [
    "df.sample(10)"
   ]
  },
  {
   "cell_type": "markdown",
   "metadata": {},
   "source": [
    "## Quantos valores pertencem a cada classe"
   ]
  },
  {
   "cell_type": "code",
   "execution_count": 13,
   "metadata": {
    "scrolled": false
   },
   "outputs": [
    {
     "data": {
      "text/plain": [
       "0    82050\n",
       "4    78938\n",
       "2    70269\n",
       "3    61859\n",
       "1    57721\n",
       "Name: k-classes, dtype: int64"
      ]
     },
     "execution_count": 13,
     "metadata": {},
     "output_type": "execute_result"
    }
   ],
   "source": [
    "df['k-classes'].value_counts()"
   ]
  },
  {
   "cell_type": "markdown",
   "metadata": {},
   "source": [
    "## Escolhendo o número certo de clusters"
   ]
  },
  {
   "cell_type": "markdown",
   "metadata": {},
   "source": [
    "### Elbow Method"
   ]
  },
  {
   "cell_type": "markdown",
   "metadata": {},
   "source": [
    "É uma técnica que a ideia é executar o K-Means para um conjunto de classes (1 a 11, por exemplo), e para cada valor calcular a soma das distâncias ao quadrado de cada ponto de dado ao seu centroide atribuido.\n",
    "Ao plotar o gráfico de distorção e ele se parecer com um braço, o cotovelo (Elbow) que é o ponto onde a curva começa a se estabilizar, é o melhor valor de k.\n",
    "Executando o K-Means para uma variedade de clusters e adicionando a distorção (inertia) em uma lista."
   ]
  },
  {
   "cell_type": "code",
   "execution_count": 14,
   "metadata": {},
   "outputs": [],
   "source": [
    "wcss = []\n",
    "K = range(1,11)\n",
    "\n",
    "for i in K:\n",
    "    kmeans = KMeans(n_clusters = i, init = 'k-means++', random_state=0)\n",
    "    kmeans.fit(X)\n",
    "    wcss.append(kmeans.inertia_)"
   ]
  },
  {
   "cell_type": "code",
   "execution_count": 15,
   "metadata": {},
   "outputs": [
    {
     "data": {
      "image/png": "[encoded data removed]",
      "text/plain": [
       "<Figure size 720x432 with 1 Axes>"
      ]
     },
     "metadata": {
      "needs_background": "light"
     },
     "output_type": "display_data"
    }
   ],
   "source": [
    "plt.figure(figsize=(10,6))\n",
    "plt.plot(K, wcss, 'bx-')\n",
    "plt.xlabel('Número de clusters (K)')\n",
    "plt.ylabel('WCSS')\n",
    "plt.title('Elbow Method')\n",
    "plt.show()"
   ]
  },
  {
   "cell_type": "markdown",
   "metadata": {},
   "source": [
    "### Usando a lib KElbowVisualizer para uma melhor visualização"
   ]
  },
  {
   "cell_type": "code",
   "execution_count": 16,
   "metadata": {
    "scrolled": false
   },
   "outputs": [
    {
     "name": "stderr",
     "output_type": "stream",
     "text": [
      "/home/leonardo/anaconda3/lib/python3.7/site-packages/sklearn/utils/deprecation.py:144: FutureWarning: The sklearn.metrics.classification module is  deprecated in version 0.22 and will be removed in version 0.24. The corresponding classes / functions should instead be imported from sklearn.metrics. Anything that cannot be imported from sklearn.metrics is now part of the private API.\n",
      "  warnings.warn(message, FutureWarning)\n"
     ]
    }
   ],
   "source": [
    "from yellowbrick.cluster import KElbowVisualizer"
   ]
  },
  {
   "cell_type": "code",
   "execution_count": 17,
   "metadata": {
    "scrolled": true
   },
   "outputs": [
    {
     "data": {
      "image/png": "[encoded data removed]",
      "text/plain": [
       "<Figure size 576x396 with 2 Axes>"
      ]
     },
     "metadata": {},
     "output_type": "display_data"
    },
    {
     "data": {
      "text/plain": [
       "<matplotlib.axes._subplots.AxesSubplot at 0x7fd27b790410>"
      ]
     },
     "execution_count": 17,
     "metadata": {},
     "output_type": "execute_result"
    }
   ],
   "source": [
    "model = KMeans()\n",
    "visualizer = KElbowVisualizer(kmeans, k=(1,11))\n",
    "\n",
    "visualizer.fit(X)\n",
    "visualizer.show()"
   ]
  },
  {
   "cell_type": "markdown",
   "metadata": {},
   "source": [
    "O gráfico mostra que o número ideal de clusters é 3"
   ]
  },
  {
   "cell_type": "markdown",
   "metadata": {},
   "source": [
    "## kmeans com 3 clusters. O k-means++ garante uma inicialização mais inteligente dos centroides e melhora a qualidade do cluster."
   ]
  },
  {
   "cell_type": "code",
   "execution_count": 18,
   "metadata": {},
   "outputs": [],
   "source": [
    "kmeans = KMeans(n_clusters=3, init = 'k-means++', random_state=0)"
   ]
  },
  {
   "cell_type": "code",
   "execution_count": 19,
   "metadata": {},
   "outputs": [
    {
     "data": {
      "text/plain": [
       "KMeans(algorithm='auto', copy_x=True, init='k-means++', max_iter=300,\n",
       "       n_clusters=3, n_init=10, n_jobs=None, precompute_distances='auto',\n",
       "       random_state=0, tol=0.0001, verbose=0)"
      ]
     },
     "execution_count": 19,
     "metadata": {},
     "output_type": "execute_result"
    }
   ],
   "source": [
    "kmeans.fit(X)"
   ]
  },
  {
   "cell_type": "code",
   "execution_count": 20,
   "metadata": {},
   "outputs": [],
   "source": [
    "df['k-classes'] = kmeans.labels_"
   ]
  },
  {
   "cell_type": "code",
   "execution_count": 21,
   "metadata": {
    "scrolled": false
   },
   "outputs": [
    {
     "data": {
      "text/html": [
       "<div>\n",
       "<style scoped>\n",
       "    .dataframe tbody tr th:only-of-type {\n",
       "        vertical-align: middle;\n",
       "    }\n",
       "\n",
       "    .dataframe tbody tr th {\n",
       "        vertical-align: top;\n",
       "    }\n",
       "\n",
       "    .dataframe thead th {\n",
       "        text-align: right;\n",
       "    }\n",
       "</style>\n",
       "<table border=\"1\" class=\"dataframe\">\n",
       "  <thead>\n",
       "    <tr style=\"text-align: right;\">\n",
       "      <th></th>\n",
       "      <th>Data</th>\n",
       "      <th>Hora</th>\n",
       "      <th>Zona W1 - T1 Temp. (°C)</th>\n",
       "      <th>Zona W1 - RH1 HR (%)</th>\n",
       "      <th>Zona W1 - C1A Rotação (mm/m)</th>\n",
       "      <th>Zona W1 - P1 Deslocamento (mm)</th>\n",
       "      <th>Zona W2 - F7 Deslocamento (mm)</th>\n",
       "      <th>Zona W2 - F8 Deslocamento (mm)</th>\n",
       "      <th>Zona W2 - T2 Temperatura (ºC)</th>\n",
       "      <th>Zona W2 - F4 Deslocamento (mm)</th>\n",
       "      <th>PtCondensação (°C)  #10597645-x</th>\n",
       "      <th>k-classes</th>\n",
       "    </tr>\n",
       "    <tr>\n",
       "      <th>#</th>\n",
       "      <th></th>\n",
       "      <th></th>\n",
       "      <th></th>\n",
       "      <th></th>\n",
       "      <th></th>\n",
       "      <th></th>\n",
       "      <th></th>\n",
       "      <th></th>\n",
       "      <th></th>\n",
       "      <th></th>\n",
       "      <th></th>\n",
       "      <th></th>\n",
       "    </tr>\n",
       "  </thead>\n",
       "  <tbody>\n",
       "    <tr>\n",
       "      <th>322807</th>\n",
       "      <td>2015/10/23</td>\n",
       "      <td>04:06:00,0</td>\n",
       "      <td>17296.0</td>\n",
       "      <td>58748.0</td>\n",
       "      <td>-41.0449</td>\n",
       "      <td>7.2586</td>\n",
       "      <td>7.8162</td>\n",
       "      <td>7.8289</td>\n",
       "      <td>12225.0</td>\n",
       "      <td>5.5582</td>\n",
       "      <td>9161.0</td>\n",
       "      <td>1</td>\n",
       "    </tr>\n",
       "    <tr>\n",
       "      <th>183798</th>\n",
       "      <td>2015/07/18</td>\n",
       "      <td>15:17:00,0</td>\n",
       "      <td>27702.0</td>\n",
       "      <td>45463.0</td>\n",
       "      <td>-40.9819</td>\n",
       "      <td>7.2081</td>\n",
       "      <td>7.8006</td>\n",
       "      <td>7.8055</td>\n",
       "      <td>27975.0</td>\n",
       "      <td>5.5347</td>\n",
       "      <td>14868.0</td>\n",
       "      <td>2</td>\n",
       "    </tr>\n",
       "    <tr>\n",
       "      <th>222927</th>\n",
       "      <td>2015/08/14</td>\n",
       "      <td>19:26:00,0</td>\n",
       "      <td>24098.0</td>\n",
       "      <td>41986.0</td>\n",
       "      <td>-40.9252</td>\n",
       "      <td>7.2398</td>\n",
       "      <td>7.8006</td>\n",
       "      <td>7.8055</td>\n",
       "      <td>19675.0</td>\n",
       "      <td>5.5425</td>\n",
       "      <td>10399.0</td>\n",
       "      <td>2</td>\n",
       "    </tr>\n",
       "    <tr>\n",
       "      <th>209352</th>\n",
       "      <td>2015/08/05</td>\n",
       "      <td>09:11:00,0</td>\n",
       "      <td>25744.0</td>\n",
       "      <td>40663.0</td>\n",
       "      <td>-40.9252</td>\n",
       "      <td>7.2319</td>\n",
       "      <td>7.8084</td>\n",
       "      <td>7.7977</td>\n",
       "      <td>21275.0</td>\n",
       "      <td>5.5582</td>\n",
       "      <td>11394.0</td>\n",
       "      <td>2</td>\n",
       "    </tr>\n",
       "    <tr>\n",
       "      <th>196155</th>\n",
       "      <td>2015/07/27</td>\n",
       "      <td>05:14:00,0</td>\n",
       "      <td>26500.0</td>\n",
       "      <td>49448.0</td>\n",
       "      <td>-40.9567</td>\n",
       "      <td>7.2250</td>\n",
       "      <td>7.8006</td>\n",
       "      <td>7.7977</td>\n",
       "      <td>19175.0</td>\n",
       "      <td>5.5503</td>\n",
       "      <td>15079.0</td>\n",
       "      <td>2</td>\n",
       "    </tr>\n",
       "  </tbody>\n",
       "</table>\n",
       "</div>"
      ],
      "text/plain": [
       "              Data        Hora  Zona W1 - T1 Temp. (°C)  Zona W1 - RH1 HR (%)  \\\n",
       "#                                                                               \n",
       "322807  2015/10/23  04:06:00,0                  17296.0               58748.0   \n",
       "183798  2015/07/18  15:17:00,0                  27702.0               45463.0   \n",
       "222927  2015/08/14  19:26:00,0                  24098.0               41986.0   \n",
       "209352  2015/08/05  09:11:00,0                  25744.0               40663.0   \n",
       "196155  2015/07/27  05:14:00,0                  26500.0               49448.0   \n",
       "\n",
       "        Zona W1 - C1A Rotação (mm/m)  Zona W1 - P1 Deslocamento (mm)  \\\n",
       "#                                                                      \n",
       "322807                      -41.0449                          7.2586   \n",
       "183798                      -40.9819                          7.2081   \n",
       "222927                      -40.9252                          7.2398   \n",
       "209352                      -40.9252                          7.2319   \n",
       "196155                      -40.9567                          7.2250   \n",
       "\n",
       "        Zona W2 - F7 Deslocamento (mm)  Zona W2 - F8 Deslocamento (mm)  \\\n",
       "#                                                                        \n",
       "322807                          7.8162                          7.8289   \n",
       "183798                          7.8006                          7.8055   \n",
       "222927                          7.8006                          7.8055   \n",
       "209352                          7.8084                          7.7977   \n",
       "196155                          7.8006                          7.7977   \n",
       "\n",
       "        Zona W2 - T2 Temperatura (ºC)  Zona W2 - F4 Deslocamento (mm)  \\\n",
       "#                                                                       \n",
       "322807                        12225.0                          5.5582   \n",
       "183798                        27975.0                          5.5347   \n",
       "222927                        19675.0                          5.5425   \n",
       "209352                        21275.0                          5.5582   \n",
       "196155                        19175.0                          5.5503   \n",
       "\n",
       "        PtCondensação (°C)  #10597645-x  k-classes  \n",
       "#                                                   \n",
       "322807                           9161.0          1  \n",
       "183798                          14868.0          2  \n",
       "222927                          10399.0          2  \n",
       "209352                          11394.0          2  \n",
       "196155                          15079.0          2  "
      ]
     },
     "execution_count": 21,
     "metadata": {},
     "output_type": "execute_result"
    }
   ],
   "source": [
    "df.sample(5)"
   ]
  },
  {
   "cell_type": "code",
   "execution_count": 22,
   "metadata": {
    "scrolled": true
   },
   "outputs": [
    {
     "data": {
      "text/plain": [
       "2    151395\n",
       "1    107943\n",
       "0     91499\n",
       "Name: k-classes, dtype: int64"
      ]
     },
     "execution_count": 22,
     "metadata": {},
     "output_type": "execute_result"
    }
   ],
   "source": [
    "df['k-classes'].value_counts()"
   ]
  },
  {
   "cell_type": "markdown",
   "metadata": {},
   "source": [
    "# Referências"
   ]
  },
  {
   "cell_type": "markdown",
   "metadata": {},
   "source": [
    "https://en.wikipedia.org/wiki/K-means_clustering\n"
   ]
  },
  {
   "cell_type": "markdown",
   "metadata": {},
   "source": [
    "https://developers.google.com/machine-learning/clustering/workflow\n"
   ]
  },
  {
   "cell_type": "markdown",
   "metadata": {},
   "source": [
    "https://www.scikit-yb.org/en/latest/api/cluster/elbow.html\n"
   ]
  },
  {
   "cell_type": "markdown",
   "metadata": {},
   "source": [
    "https://scikit-learn.org/stable/modules/generated/sklearn.cluster.KMeans.html\n"
   ]
  },
  {
   "cell_type": "markdown",
   "metadata": {},
   "source": [
    "https://predictivehacks.com/k-means-elbow-method-code-for-python/"
   ]
  }
 ],
 "metadata": {
  "kernelspec": {
   "display_name": "Python 3",
   "language": "python",
   "name": "python3"
  },
  "language_info": {
   "codemirror_mode": {
    "name": "ipython",
    "version": 3
   },
   "file_extension": ".py",
   "mimetype": "text/x-python",
   "name": "python",
   "nbconvert_exporter": "python",
   "pygments_lexer": "ipython3",
   "version": "3.7.6"
  }
 },
 "nbformat": 4,
 "nbformat_minor": 4
}
